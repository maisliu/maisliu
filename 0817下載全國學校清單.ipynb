{
  "nbformat": 4,
  "nbformat_minor": 0,
  "metadata": {
    "colab": {
      "name": "0817下載全國學校清單.ipynb",
      "provenance": [],
      "collapsed_sections": [],
      "authorship_tag": "ABX9TyOTov/Tu5mcweEUKnsiYWC5",
      "include_colab_link": true
    },
    "kernelspec": {
      "name": "python3",
      "display_name": "Python 3"
    },
    "language_info": {
      "name": "python"
    }
  },
  "cells": [
    {
      "cell_type": "markdown",
      "metadata": {
        "id": "view-in-github",
        "colab_type": "text"
      },
      "source": [
        "<a href=\"https://colab.research.google.com/github/maisliu/maisliu/blob/0817_python/0817%E4%B8%8B%E8%BC%89%E5%85%A8%E5%9C%8B%E5%AD%B8%E6%A0%A1%E6%B8%85%E5%96%AE.ipynb\" target=\"_parent\"><img src=\"https://colab.research.google.com/assets/colab-badge.svg\" alt=\"Open In Colab\"/></a>"
      ]
    },
    {
      "cell_type": "markdown",
      "metadata": {
        "id": "L3SpoyHk85yG"
      },
      "source": [
        "#下載學校清單\n"
      ]
    },
    {
      "cell_type": "code",
      "metadata": {
        "colab": {
          "base_uri": "https://localhost:8080/"
        },
        "id": "2Q_IVte_9i6j",
        "outputId": "47993c76-d739-40f9-889d-553d1a23a941"
      },
      "source": [
        "import requests\n",
        "from bs4 import BeautifulSoup\n",
        "url=\"https://highschool.yjvs.chc.edu.tw/search/index.php?city=15&no=2\"\n",
        "\n",
        "html=requests.get(url)\n",
        "\n",
        "sp=BeautifulSoup(html.text,\"html.parser\")\n",
        "sp.title"
      ],
      "execution_count": 18,
      "outputs": [
        {
          "output_type": "execute_result",
          "data": {
            "text/plain": [
              "<title>全國高級中等學校及五專資訊網</title>"
            ]
          },
          "metadata": {
            "tags": []
          },
          "execution_count": 18
        }
      ]
    },
    {
      "cell_type": "code",
      "metadata": {
        "colab": {
          "base_uri": "https://localhost:8080/"
        },
        "id": "gkf3veYs52Ve",
        "outputId": "65680b9a-2cee-4251-da19-f989f3212cc9"
      },
      "source": [
        "datas=sp.find('div',id=\"school-list\").find_all('table')\n",
        "for data in datas:\n",
        "  school=data.find_all('li')\n",
        "  print(school[0].text,school[1].text,school[2].text,school[3].text)"
      ],
      "execution_count": 20,
      "outputs": [
        {
          "output_type": "stream",
          "text": [
            "國立新化高級工業職業學校 　[71242]台南市新化區信義路54號 　06-5903420 　http://www.hhvs.tn.edu.tw\n",
            "國立白河高級商工職業學校 　[732]台南市白河區永安里新興路528號 　06-6852054轉201、211~213及215 　http://www.phvs.tn.edu.tw/index.asp\n",
            "國立北門高級農工職業學校 　[722]臺南市佳里區六安里117號 　06-7260148 　http://www.pmai.tn.edu.tw\n",
            "國立曾文高級家事商業職業學校 　[72148]台南市麻豆區和平路9號 　06-5722079 　http://www.twvs.tn.edu.tw\n",
            "國立新營高級工業職業學校 　[73060]臺南市新營區中正路68號 　06-6322377 　http://www.hyivs.tn.edu.tw\n",
            "國立玉井高級工商職業學校 　[71445]台南市玉井區中山路1-1號 　06-5741101 　http://www.ycvs.tn.edu.tw\n",
            "國立臺南高級工業職業學校 　[710]台南市永康區中山南路193號 　06-2322131 　http://www.ptivs.tn.edu.tw/\n",
            "國立曾文高級農工職業學校 　[721]台南市麻豆區南勢里1號 　06-5721137 　http://www.twivs.tn.edu.tw\n",
            "國立臺南大學附屬啟聰學校 　[71242]台南市新化區信義路52號 　06-5900504 　http://www.tndsh.tn.edu.tw/\n",
            "陽明學校財團法人臺南市陽明高級工商職業學校 　[720]台南市官田區官田里423號 　06-6901190 　http://www.ymvs.tn.edu.tw\n"
          ],
          "name": "stdout"
        }
      ]
    },
    {
      "cell_type": "code",
      "metadata": {
        "colab": {
          "base_uri": "https://localhost:8080/"
        },
        "id": "p4KBdiaB_1Vs",
        "outputId": "03ffe770-56a0-4ddd-bce8-3a1fa79a320d"
      },
      "source": [
        "#共有兩頁，全抓\n",
        "\n",
        "import requests\n",
        "from bs4 import BeautifulSoup\n",
        "\n",
        "\n",
        "for i in range(1,3):\n",
        "  url=\"https://highschool.yjvs.chc.edu.tw/search/index.php?city=15&no=2&page=\"+str(i)\n",
        "  html=requests.get(url)\n",
        "\n",
        "  sp=BeautifulSoup(html.text,\"html.parser\")\n",
        "  sp.title\n",
        "  datas=sp.find('div',id=\"school-list\").find_all('table')\n",
        "  for data in datas:\n",
        "    school=data.find_all('li')\n",
        "    print(school[0].text,school[1].text,school[2].text,school[3].text)"
      ],
      "execution_count": 21,
      "outputs": [
        {
          "output_type": "stream",
          "text": [
            "國立新化高級工業職業學校 　[71242]台南市新化區信義路54號 　06-5903420 　http://www.hhvs.tn.edu.tw\n",
            "國立白河高級商工職業學校 　[732]台南市白河區永安里新興路528號 　06-6852054轉201、211~213及215 　http://www.phvs.tn.edu.tw/index.asp\n",
            "國立北門高級農工職業學校 　[722]臺南市佳里區六安里117號 　06-7260148 　http://www.pmai.tn.edu.tw\n",
            "國立曾文高級家事商業職業學校 　[72148]台南市麻豆區和平路9號 　06-5722079 　http://www.twvs.tn.edu.tw\n",
            "國立新營高級工業職業學校 　[73060]臺南市新營區中正路68號 　06-6322377 　http://www.hyivs.tn.edu.tw\n",
            "國立玉井高級工商職業學校 　[71445]台南市玉井區中山路1-1號 　06-5741101 　http://www.ycvs.tn.edu.tw\n",
            "國立臺南高級工業職業學校 　[710]台南市永康區中山南路193號 　06-2322131 　http://www.ptivs.tn.edu.tw/\n",
            "國立曾文高級農工職業學校 　[721]台南市麻豆區南勢里1號 　06-5721137 　http://www.twivs.tn.edu.tw\n",
            "國立臺南大學附屬啟聰學校 　[71242]台南市新化區信義路52號 　06-5900504 　http://www.tndsh.tn.edu.tw/\n",
            "陽明學校財團法人臺南市陽明高級工商職業學校 　[720]台南市官田區官田里423號 　06-6901190 　http://www.ymvs.tn.edu.tw\n",
            "臺南市私立育德工業家事職業學校 　[730]台南市新營區健康路211號 　06-6563275 　http://www.ytvs.tn.edu.tw/#\n",
            "國立臺南高級商業職業學校 　[702]臺南市南區健康路一段327號 　06-2617123 　https://www.tncvs.tn.edu.tw\n",
            "國立臺南高級海事水產職業學校 　[708]臺南市安平區世平路1號 　06-3910772 　http://www.tnvs.tn.edu.tw\n",
            "臺南市私立南英高級商工職業學校 　[70051]臺南市中西區永福路一段149號 　06-2131912 　http://www.nyvs.tn.edu.tw\n",
            "臺南市亞洲高級餐旅職業學校 　[702]臺南市南區大成路一段5號 　06-2640175 　http://www.asvs.tn.edu.tw\n",
            "臺南市私立慈幼高級工商職業學校 　[701]臺南市東區裕農路801號 　06-2362106 　http://www.ssvs.tn.edu.tw\n",
            "國立臺南特殊教育學校 　709 臺南市安南區長和路二段74號 　06-355-4591~3 　http://www.tnmr.tn.edu.tw/index.php\n"
          ],
          "name": "stdout"
        }
      ]
    },
    {
      "cell_type": "code",
      "metadata": {
        "id": "2RjBFvTIAXUL"
      },
      "source": [
        ""
      ],
      "execution_count": null,
      "outputs": []
    },
    {
      "cell_type": "code",
      "metadata": {
        "colab": {
          "base_uri": "https://localhost:8080/"
        },
        "id": "ntbe3H27_3k7",
        "outputId": "dd41f7ea-9d0a-4aa5-a6a0-ee0d4f9d71a3"
      },
      "source": [
        "#全國高職學校 19頁\n",
        "\n",
        "import requests\n",
        "from bs4 import BeautifulSoup\n",
        "\n",
        "\n",
        "for i in range(1,20):\n",
        "  url=\"https://highschool.yjvs.chc.edu.tw/search/index.php?no=2&page=\"+str(i)\n",
        "  html=requests.get(url)\n",
        "\n",
        "  sp=BeautifulSoup(html.text,\"html.parser\")\n",
        "  sp.title\n",
        "  datas=sp.find('div',id=\"school-list\").find_all('table')\n",
        "  for data in datas:\n",
        "    school=data.find_all('li')\n",
        "    print(school[0].text,school[1].text,school[2].text,school[3].text)"
      ],
      "execution_count": 22,
      "outputs": [
        {
          "output_type": "stream",
          "text": [
            "嘉義縣私立協志高級工商職業學校 　[621]嘉義縣民雄鄉建國路二段285巷11號 　05-2264264 　http://www3.ccivs.cyc.edu.tw/2014/\n",
            "臺北市私立滬江高級中學 　[116]台北市文山區景美里羅斯福路6段336號 　02-86631122 　http://www.hchs.tp.edu.tw\n",
            "臺中市明台高級中學 　[413]臺中市霧峰區萊園路91號 　04-23393071 　http://www.mths.tc.edu.tw\n",
            "高雄市私立大榮高級中學 　[804]高雄市鼓山區大榮街1號 　07-5613281 　http://www.dystcs.kh.edu.tw//\n",
            "國立臺灣海洋大學附屬基隆海事高級中等學校 　[20243]基隆市中正區祥豐街246號 　02-24633655 　http://www.klms.ntou.edu.tw/\n",
            "國立基隆高級商工職業學校 　[206]基隆市七堵區東新街22號 　02-24567126 　http://www.klcivs.kl.edu.tw/SchoolWeb/\n",
            "光隆學校財團法人基隆市光隆高級家事商業職業學校 　[201]基隆市信義區信二路264號 　02-24222237 　http://www.klhcvs.kl.edu.tw/\n",
            "基隆市私立培德高級工業家事職業學校 　[201]基隆市信義區培德路73號 　02-24652121 　http://www.ptvs.kl.edu.tw\n",
            "育達學校財團法人臺北市私立普林思頓高級中等學校 　[105]臺北市松山區美仁里寧安街12號 　02-25706767 　http://www.yudah.tp.edu.tw\n",
            "臺北市立松山高級商業家事職業學校 　[11080]台北市信義區松山路655號 　02-27261118 　http://www.ssvs.tp.edu.tw\n",
            "臺北市立松山高級工農職業學校 　[110]臺北市信義區忠孝東路五段236巷15號 　02-27226616 　http://www.saihs.edu.tw\n",
            "臺北市私立東方高級工商職業學校 　[106]台北市大安區信義路四段186巷8號 　02-27554616 　http://www.tfvs.tp.edu.tw/\n",
            "臺北市私立喬治高級工商職業學校 　[110]台北市信義區黎順里基隆路2段155號 　02-27386515 　http://www.gvs.tp.edu.tw\n",
            "臺北市立大安高級工業職業學校 　[106]臺北市大安區龍圖里復興南路2段52號 　02-27091630 　http://www.taivs.tp.edu.tw\n",
            "臺北市私立稻江高級護理家事職業學校 　[104]台北市中山區新生北路三段55號 　02-25955161 　http://www.tcnvs.tp.edu.tw\n",
            "開南學校財團法人臺北市開南高級中等學校 　[10051]台北市中正區東門里濟南路1段6號 　02-23212666 　http://www.knvs.tp.edu.tw\n",
            "臺北市私立稻江高級商業職業學校 　[103]台北市大同區國昌里民權西路225巷24號 　02-25912001、02-25573055 　http://www.tkcvs.tp.edu.tw\n",
            "臺北市立木柵高級工業職業學校 　[116]台北市文山區萬芳里木柵路4段77號 　02-22300506 　http://www.mcvs.tp.edu.tw\n",
            "臺北市立南港高級工業職業學校 　[115]臺北市南港區興中路29號 　02-27825432 　http://www.nkhs.tp.edu.tw/ischool/publish_page/0/\n",
            "國立臺灣戲曲學院(高職部) 　內湖校區：114臺北市內湖區內湖路二段177號；木柵校區：116臺北市文山區木柵路三段66巷8之1號 　內湖(02)27962666；木柵(02)29367231 　http://www.tcpa.edu.tw/\n",
            "臺北市立內湖高級工業職業學校 　[11493]臺北市內湖區港墘里內湖路1段520號 　02-2657-4874 　http://www.nihs.tp.edu.tw\n",
            "臺北市私立華岡藝術學校 　[111095]台北市士林區建業路73巷8號 　02-28612354 　http://www.hka.edu.tw\n",
            "臺北市立士林高級商業職業學校 　[11165]台北市士林區士商路150號 　02-28313114 　http://www.slhs.tp.edu.tw\n",
            "臺北市私立惇敘高級工商職業學校 　[112]台北市北投區林泉里泉源路221號 　02-28912630 　http://www.thvs.tp.edu.tw\n",
            "新北市立瑞芳高級工業職業學校 　[22441]新北市瑞芳區瑞芳街60號 　02-24972516 　http://www.jfvs.ntpc.edu.tw\n",
            "新北市立三重高級商工職業學校 　[24162]新北市三重區中正北路163號 　02-29715606#203~206 　http://www.scvs.ntpc.edu.tw\n",
            "新北市立新北高級工業職業學校 　[236]新北市土城區學府路一段241號 　02-22612483 　http://www.ntvs.ntpc.edu.tw/\n",
            "新北市立淡水高級商工職業學校 　[251]新北市淡水區商工路307號 　02-26203930 　http://www.tsvs.ntpc.edu.tw\n",
            "新北市私立樹人高級家事商業職業學校 　[238]新北市樹林區大安路216號 　02-26870391#128、168 　http://www.stgvs.ntpc.edu.tw\n",
            "新北市私立復興高級商工職業學校 　[234]新北市永和區秀朗路一段201號 　02-29262121 　http://www.fhvs.ntpc.edu.tw\n",
            "新北市私立南強高級工商職業學校 　[231]新北市新店區文化路42號 　02-29155144 　http://www.ncvs.ntpc.edu.tw\n",
            "穀保學校財團法人新北市穀保高級家事商業職業學校 　[241]新北市三重區中正北路560巷38號 　02-29712343 　http://www.kpvs.ntpc.edu.tw\n",
            "新北市私立開明高級工業商業職業學校 　[231]新北市新店區寶中路49號 　02-29136061 　http://210.70.203.6/ischool/publish_page/0/\n",
            "新北市智光高級商工職業學校 　[234]新北市永和區中正路100號 　02-29432491 　http://www.ckvs.ntpc.edu.tw\n",
            "清傳學校財團法人新北市清傳高級商業職業學校 　[241]新北市三重區五谷王北街141巷1號 　02-29955535 　http://210.59.43.232/ischool/publish_page/0/\n",
            "能仁學校財團法人新北市能仁高級家事商業職業學校 　[23152]新北市新店區文中路53巷10號 　02-29182399 　http://www.nrvs.ntpc.edu.tw\n",
            "新北市私立豫章高級工商職業學校 　[220]新北市板橋區四川路一段391號 　02-29519810 　http://www.ycvs.ntpc.edu.tw\n",
            "新北市私立莊敬高級工業家事職業學校 　[231]新北市新店區民生路45號      [234]新北市永和區博愛街36號 　02-22188956#126、118 　http://www.jjvs.ntpc.edu.tw\n",
            "新北市私立中華商業海事職業學校 　[207]新北市萬里區瑪鋉路15號 　02-24922119 　http://www.chmvs.ntpc.edu.tw\n",
            "新北市立鶯歌高級工商職業學校 　[23942]新北市鶯歌區中正三路154號 　02-26775040 　http://www.ykvs.ntpc.edu.tw\n",
            "國立宜蘭高級商業職業學校 　[260]宜蘭縣宜蘭市延平路50號 　03-9384147 　http://www.ilvs.ilc.edu.tw/\n",
            "國立羅東高級商業職業學校 　[265]宜蘭縣羅東鎮中山路四段360號 　03-9512875 　http://www.ltcvs.ilc.edu.tw\n",
            "國立蘇澳高級海事水產職業學校 　[270]宜蘭縣蘇澳鎮蘇港路213號 　03-9951661 　http://www.savs.ilc.edu.tw\n",
            "國立羅東高級工業職業學校 　[269]宜蘭縣冬山鄉廣興路117號 　03-9514196 　http://web.ltivs.ilc.edu.tw/bin/home.php\n",
            "國立頭城高級家事商業職業學校 　[261]宜蘭縣頭城鎮新興路111號 　03-9771131 　http://www.tcvs.ilc.edu.tw\n",
            "國立臺北科技大學附屬桃園農工高級中等學校 　[33047]桃園縣桃園市成功路二段144號 　03-3333921 　http://www.tyai.tyc.edu.tw\n",
            "桃園市立中壢商業高級中等學校 　[320]桃園市中壢區中央西路二段141巷100號 　03-4929871 　http://www.clvsc.tyc.edu.tw\n",
            "桃園市立中壢家事商業高級中等學校 　[320]桃園市中壢區德育路36號 　03-4271627 　http://www.clvs.tyc.edu.tw\n",
            "桃園市私立成功高級工商職業學校 　[333]桃園市龜山區新興里明德路162巷100號 　03-3294188 　http://www.ckvs.tyc.edu.tw\n",
            "方曙學校財團法人桃園市方曙商工高級中等學校 　[325]桃園市龍潭區上林村中原路一段50號 　03-4796345 　http://www.fsvs.tyc.edu.tw\n",
            "永平學校財團法人桃園市私立永平工商高級中等學校 　[326]桃園市楊梅區埔心永平路480號 　03-4817741 　http://www.ypvs.tyc.edu.tw\n",
            "國立新竹高級商業職業學校 　[300]新竹市東區學府路128號 　03-5722150 　http://www.hccvs.hc.edu.tw\n",
            "國立新竹高級工業職業學校 　[30060]新竹市東區中華路二段2號 　03-5322175 　http://www.hcvs.hc.edu.tw\n",
            "新竹縣私立內思高級工業職業學校 　[30595]新竹縣新埔鎮四座里楊新路一段40號 　03-5882520 　http://www.savs.hcc.edu.tw\n",
            "國立大湖高級農工職業學校 　[364]苗栗縣大湖鄉大寮村竹高屋68號 　037-992216 　http://www.thvs.mlc.edu.tw\n",
            "臺中市立臺中家事商業高級中等學校 　[401]臺中市東區和平街50號 　04-22223307 　http://www.tchcvs.tc.edu.tw\n",
            "國立中興大學附屬臺中高級農業職業學校 　[401]臺中市東區台中路283號 　04-22810010 　http://www.tcavs.tc.edu.tw\n",
            "臺中市立臺中工業高級中等學校 　[402]臺中市南區高工路191號 　04-22613158 　http://www.tcivs.tc.edu.tw\n",
            "光華學校財團法人臺中市光華高級工業職業學校 　41141臺中市太平區東平路18號 　04-23949009 　http://www.khvs.tc.edu.tw\n",
            "國立彰化特殊教育學校 　[511]彰化縣社頭鄉中山路一段306號 　04-8727303 　http://www.chsmr.chc.edu.tw/\n",
            "國立華南高級商業職業學校 　[60048]嘉義市東區光彩街69號 　05-2787140 　http://www.phnvs.cy.edu.tw\n",
            "國立嘉義高級工業職業學校 　[600]嘉義市東區彌陀路174號 　05-2763060 　http://www.cyivs.cy.edu.tw\n",
            "國立嘉義高級商業職業學校 　[600]嘉義市東區中山路7號 　05-2782421 　http://www.cyvs.cy.edu.tw\n",
            "國立嘉義高級家事職業學校 　[600]嘉義市東區體育路7號 　05-2259640 　http://www.cyhvs.cy.edu.tw\n",
            "嘉義市私立東吳高級工業家事職業學校 　[600]嘉義市東區宣信街252號 　05-2246161 　https://www.dwvs.cy.edu.tw/\n",
            "國立民雄高級農工職業學校 　[621]嘉義縣民雄鄉文隆村81號 　05-2267120#232 　http://www.mhvs.cyc.edu.tw\n",
            "嘉義縣私立萬能高級工商職業學校 　[608]嘉義縣水上鄉萬能路1號 　05-2687777 　http://www.wnvs.cyc.edu.tw/2019/\n",
            "弘德學校財團法人嘉義縣弘德高級工商職業學校 　[613]嘉義縣朴子市崁後里54之2號 　05-3691473 　http://www.cdvs.cyc.edu.tw\n",
            "國立新化高級工業職業學校 　[71242]台南市新化區信義路54號 　06-5903420 　http://www.hhvs.tn.edu.tw\n",
            "國立白河高級商工職業學校 　[732]台南市白河區永安里新興路528號 　06-6852054轉201、211~213及215 　http://www.phvs.tn.edu.tw/index.asp\n",
            "國立北門高級農工職業學校 　[722]臺南市佳里區六安里117號 　06-7260148 　http://www.pmai.tn.edu.tw\n",
            "國立曾文高級家事商業職業學校 　[72148]台南市麻豆區和平路9號 　06-5722079 　http://www.twvs.tn.edu.tw\n",
            "國立新營高級工業職業學校 　[73060]臺南市新營區中正路68號 　06-6322377 　http://www.hyivs.tn.edu.tw\n",
            "國立玉井高級工商職業學校 　[71445]台南市玉井區中山路1-1號 　06-5741101 　http://www.ycvs.tn.edu.tw\n",
            "國立臺南高級工業職業學校 　[710]台南市永康區中山南路193號 　06-2322131 　http://www.ptivs.tn.edu.tw/\n",
            "國立曾文高級農工職業學校 　[721]台南市麻豆區南勢里1號 　06-5721137 　http://www.twivs.tn.edu.tw\n",
            "國立臺南大學附屬啟聰學校 　[71242]台南市新化區信義路52號 　06-5900504 　http://www.tndsh.tn.edu.tw/\n",
            "陽明學校財團法人臺南市陽明高級工商職業學校 　[720]台南市官田區官田里423號 　06-6901190 　http://www.ymvs.tn.edu.tw\n",
            "臺南市私立育德工業家事職業學校 　[730]台南市新營區健康路211號 　06-6563275 　http://www.ytvs.tn.edu.tw/#\n",
            "國立臺南高級商業職業學校 　[702]臺南市南區健康路一段327號 　06-2617123 　https://www.tncvs.tn.edu.tw\n",
            "國立臺南高級海事水產職業學校 　[708]臺南市安平區世平路1號 　06-3910772 　http://www.tnvs.tn.edu.tw\n",
            "臺南市私立南英高級商工職業學校 　[70051]臺南市中西區永福路一段149號 　06-2131912 　http://www.nyvs.tn.edu.tw\n",
            "臺南市亞洲高級餐旅職業學校 　[702]臺南市南區大成路一段5號 　06-2640175 　http://www.asvs.tn.edu.tw\n",
            "臺南市私立慈幼高級工商職業學校 　[701]臺南市東區裕農路801號 　06-2362106 　http://www.ssvs.tn.edu.tw\n",
            "國立旗山高級農工職業學校 　[842]高雄市旗山區旗甲路一段195號 　07-6612501 　http://www.csvs.khc.edu.tw\n",
            "國立岡山高級農工職業學校 　[82049]高雄市岡山區壽天里岡山路533號 　07-6217129 　http://www.ksvs.khc.edu.tw\n",
            "國立鳳山高級商工職業學校 　[83052]高雄市鳳山區文衡路51號 　07-7462602 　http://www.fsvs.ks.edu.tw\n",
            "中山學校財團法人高雄市中山高級工商職業學校 　[831]高雄市大寮區會社里正氣路79號 　07-782-7311、07-781-5311 　http://www2.csic.khc.edu.tw/PPP/index.asp\n",
            "高雄市私立旗美高級商工職業學校 　[843]高雄市美濃區中興路二段275號 　07-6812152 　http://cm.cmvsedu.tw/\n",
            "高雄市私立高英高級工商職業學校 　[831]高雄市大寮區鳳林三路19巷44號 　07-7832991 　http://www.kyicvs.khc.edu.tw/\n",
            "華德學校財團法人高雄市華德高級工業家事職業學校 　[852]高雄市茄萣區濱海路四段66號 　07-6921212 　http://www.hdvs.kh.edu.tw\n",
            "私立高苑高級工商職業學校 　[82544]高雄市橋頭區東林里芋寮路一號 　07-6111101~7 　http://www.kyvs.ks.edu.tw\n",
            "國立內埔高級農工職業學校 　[912]屏東縣內埔鄉水門村成功路83號 　08-7991103 　http://www.npvs.ptc.edu.tw\n",
            "國立屏東高級工業職業學校 　[900]屏東縣屏東市建國路25號 　08-7523781 　http://www.ptivs.ptc.edu.tw\n",
            "國立佳冬高級農業職業學校 　[931]屏東縣佳冬鄉佳冬村佳農街67號 　08-8662726 　https://www.ctvs.ptc.edu.tw\n",
            "國立東港高級海事水產職業學校 　[928]屏東縣東港鎮豐漁街66號 　08-8333131 　http://www.tkms.ptc.edu.tw\n",
            "國立恆春高級工商職業學校 　[946]屏東縣恆春鎮恆南路38號 　08-8892010 　http://www.hcvs.ptc.edu.tw\n",
            "屏東縣私立民生高級家事商業職業學校 　[900005]屏東縣屏東市民生東路12號 　08-7223029 　https://www.msvs.ptc.edu.tw\n",
            "屏東縣私立華洲高級工業家事職業學校 　[900]屏東縣屏東市歸心里歸仁路63巷99號 　08-7521516～219 　http://www.hcivs.ptc.edu.tw\n",
            "屏東縣私立日新高級工商職業學校 　[920]屏東縣潮州鎮太平路224號 　08-7882343 　http://www.jhvs.ptc.edu.tw\n",
            "國立花蓮高級農業職業學校 　[970]花蓮縣花蓮市建國路161號 　03-8312301 　http://www.hla.hlc.edu.tw\n",
            "國立花蓮高級工業職業學校 　[97058]花蓮縣花蓮市府前路27號 　03-8226108 　http://www.hlis.hlc.edu.tw\n",
            "國立花蓮高級商業職業學校 　[970]花蓮縣花蓮市中山路418號 　03-8334646 　http://www.hlbh.hlc.edu.tw\n",
            "國立光復高級商工職業學校 　[976]花蓮縣光復鄉林森路100號 　03-8700245 　http://www.kfcivs.hlc.edu.tw\n",
            "花蓮縣上騰高級工商職業學校 　[973]花蓮縣吉安鄉吉安村吉興四街101號 　038-538565 　http://www.chvs.hlc.edu.tw/sundance/\n",
            "國立臺東專科學校附設高職部 　[950]臺東縣臺東市正氣北路889號 　089-226389 　http://www.ntc.edu.tw\n",
            "國立關山高級工商職業學校 　[956]臺東縣關山鎮民權路58號 　089-811006 　https://www.ksvs.ttct.edu.tw/\n",
            "國立臺東高級商業職業學校 　[950]臺東縣臺東市正氣路440號 　089-350575 　http://www.tscvs.ttct.edu.tw\n",
            "國立成功商業水產職業學校 　[961]臺東縣成功鎮太平路52號 　089-850011 　http://www.ckvs.ttct.edu.tw\n",
            "臺東縣私立公東高級工業職業學校 　[950]臺東縣臺東市中興路一段560號 　089-222877 　http://web1.ktus.ttct.edu.tw/bin/home.php\n",
            "國立澎湖高級海事水產職業學校 　[88042]澎湖縣馬公市中興里民族路63號 　06-9261101 　http://www.phmhs.phc.edu.tw\n",
            "國立苗栗高級農工職業學校 　[36057]苗栗縣苗栗市經國路二段491號 　037-329281 　http://www.mlaivs.mlc.edu.tw\n",
            "國立苗栗高級商業職業學校 　[36047]苗栗縣苗栗市電台街7號 　037-356001 　http://www.mlvs.mlc.edu.tw\n",
            "苗栗縣私立中興高級商工職業學校 　[350]苗栗縣竹南鎮大營路211號 　037-467360 　http://www.csvs.mlc.edu.tw\n",
            "苗栗縣私立育民高級工業家事職業學校 　[360]苗栗縣苗栗市水源里育民街37號 　037-353888 　http://www.ymvs.mlc.edu.tw\n",
            "苗栗縣私立賢德高級工商職業學校 　[357]苗栗縣通霄鎮五北里74之1號 　037-751011 　http://www.sdvs.mlc.edu.tw\n",
            "苗栗縣私立龍德家事商業職業學校 　[358]苗栗縣苑裡鎮房裡里南房75之1號 　037-851277 　http://www.ldvs.mlc.edu.tw\n",
            "臺中市立豐原商業高級中等學校 　[420]台中市豐原區圓環南路50號 　04-25283556 　http://www.fyvs.tc.edu.tw\n",
            "臺中市立大甲工業高級中等學校 　[437]臺中市大甲區頂店里開元路71號 　04-26874132 　http://www.tcvs.tc.edu.tw/\n",
            "臺中市立東勢工業高級中等學校 　[423]臺中市東勢區東關路6段1328號 　04-25872136 　http://www.tsvs.tc.edu.tw/\n",
            "臺中市立沙鹿工業高級中等學校 　433臺中市沙鹿區臺灣大道七段823號 　04-26621795 　http://www.slvs.tc.edu.tw\n",
            "臺中市立霧峰農業工業高級中等學校 　[413]臺中市霧峰區中正路1222號 　04-23303118 　http://www.wufai.edu.tw\n",
            "國立彰化師範大學附屬高級工業職業學校 　[500]彰化縣彰化市和調里工校街1號 　04-7252541 　http://www.sivs.chc.edu.tw\n",
            "國立永靖高級工業職業學校 　[512]彰化縣永靖鄉永北村永坡路101號 　04-8221810 　https://www.yjvs.chc.edu.tw/home\n",
            "國立二林高級工商職業學校 　[526]彰化縣二林鎮豐田里斗苑路四段500號 　04-8962132 　http://www.elvs.chc.edu.tw\n",
            "國立秀水高級工業職業學校 　[504]彰化縣秀水鄉福安村中山路364號 　04-7697021 　http://www.ssivs.chc.edu.tw\n",
            "國立彰化高級商業職業學校 　[500]彰化縣彰化市華陽里南郭路一段326號 　04-7262623 　http://www.chsc.tw/\n",
            "國立員林高級農工職業學校 　[510]彰化縣員林鎮員水路二段313號 　04-8360105 　http://www.ylvs.chc.edu.tw\n",
            "國立員林崇實高級工業職業學校 　[510]彰化縣員林市育英路103號 　04-8347106 　http://www.csvs.chc.edu.tw\n",
            "國立員林高級家事商業職業學校 　[510]彰化縣員林市中正路56號 　04-8320260 　http://www.ylhcvs.chc.edu.tw\n",
            "國立北斗高級家事商業職業學校 　[521]彰化縣北斗鎮學府路50號 　04-8882224 　http://www.pthc.chc.edu.tw\n",
            "彰化縣私立大慶高級商工職業學校 　[510]彰化縣員林市山腳路二段206號 　04-8311005 　http://www.dcvs.chc.edu.tw\n",
            "彰化縣私立達德高級商工職業學校 　[520]彰化縣田中鎮中南路二段277號 　04-8753929 　http://www.tdvs.chc.edu.tw\n",
            "國立仁愛高級農業職業學校 　[546]南投縣仁愛鄉大同村山農巷27號 　049-2802619 　http://www.ravs.ntct.edu.tw\n",
            "國立埔里高級工業職業學校 　[545]南投縣埔里鎮中山路一段435號 　049-2982225 　https://www.plvs.ntct.edu.tw\n",
            "國立南投高級商業職業學校 　[540]南投縣南投市三興里彰南路一段993號 　049-2222269#2207~2209 　http://www.pntcv.ntct.edu.tw\n",
            "國立草屯高級商工職業學校 　[542]南投縣草屯鎮新庄里芬草路二段736號 　049-2362082 　http://www.ttvs.ntct.edu.tw\n",
            "國立水里高級商工職業學校 　[553]南投縣水里鄉南湖路2號 　049-2870666 　http://www.slvs.ntct.edu.tw/\n",
            "同德學校財團法人南投縣同德高級中等學校 　[542]南投縣草屯鎮中正路培英巷8號 　049-2553109 　http://www.tdvs.ntct.edu.tw\n",
            "國立虎尾高級農工職業學校 　[63244]雲林縣虎尾鎮公安里博愛路65號 　05-6322767 　http://www.hwaivs.ylc.edu.tw\n",
            "國立西螺高級農工職業學校 　[648]雲林縣西螺鎮大同路4號 　05-5862024 　http://www.hlvs.ylc.edu.tw\n",
            "國立斗六高級家事商業職業學校 　[640]雲林縣斗六市成功路120號 　05-5322147 　http://www.tlhc.ylc.edu.tw\n",
            "國立北港高級農工職業學校 　[651]雲林縣北港鎮太平路80號 　05-7832246 　http://www.pkvs.ylc.edu.tw/\n",
            "國立土庫高級商工職業學校 　[633]雲林縣土庫鎮中央路2號 　05-6622538 　http://www.tkvs.ylc.edu.tw\n",
            "雲林縣私立大成高級商工職業學校 　[632]雲林縣虎尾鎮成平街21號 　05-6322534轉22 　http://www.tcvhs.ylc.edu.tw\n",
            "雲林縣私立大德工業商業職業學校 　[630]雲林縣斗南鎮大同路400號 　05-5970977 　http://www.ddvs.ylc.edu.tw/\n",
            "高雄市私立中華藝術學校 　[804]高雄市鼓山區美術館路89號 　07-5549696 　http://www.charts.kh.edu.tw\n",
            "高雄市立海青高級工商職業學校 　[813]高雄市左營區左營大路1號 　07-5819155 　http://www.hcvs.kh.edu.tw\n",
            "高雄市立三民高級家事商業職業學校 　[813]高雄市左營區裕誠路1102號 　07-5525887 　http://www.smvhs.kh.edu.tw\n",
            "高雄市私立樹德高級家事商業職業學校 　[807]高雄市三民區建興路116號 　07-3848622 　http://www.shute.kh.edu.tw\n",
            "高雄市立高雄高級工業職業學校 　[80778]高雄市三民區建工路419號 　07-3815366 　http://www.ksvs.kh.edu.tw\n",
            "高雄市立高雄高級商業職業學校 　[80045]高雄市新興區五福二路3號 　07-2269975 　http://www.ksvcs.kh.edu.tw\n",
            "國際學校財團法人高雄市國際商工高級中等學校 　[802]高雄市苓雅區三多二路84號 　07-7228665#251 　http://www.kcvs.kh.edu.tw\n",
            "高雄市私立三信高級家事商業職業學校 　[802]高雄市苓雅區三多一路186號 　07-7517171 　http://www.sanhsin.edu.tw\n",
            "高雄市立中正高級工業職業學校 　[806]高雄市前鎮區光華二路80號 　07-7232301 　http://www.ccvs.kh.edu.tw\n",
            "國立金門高級農工職業學校 　[891]金門縣金湖鎮新市里復興路1之11號 　082-333508 　http://www.kmvs.km.edu.tw/\n",
            "臺北市私立開平餐飲職業學校 　[106]台北市大安區復興南路2段148巷24號 　02-27556939 　http://www.kpvs.tp.edu.tw\n",
            "國立臺南特殊教育學校 　709 臺南市安南區長和路二段74號 　06-355-4591~3 　http://www.tnmr.tn.edu.tw/index.php\n",
            "臺中市立啟聰學校 　臺中市西屯區安和路1號 　04-23589577 　www.thdf.tc.edu.tw\n",
            "新北市立新北特殊教育學校 　[244]新北市林口區文化北路一段425號 　02-26006768 　http://210.60.207.4/default.asp\n",
            "臺北市立啟聰學校 　台北市大同區重慶北路三段320號 　02-25924446 　http://www.tmd.tp.edu.tw/tmd/\n",
            "臺北市立文山特殊教育學校 　[11665]臺北市文山區 秀明路一段 169 號 　02-86615183 　http://www.wsses.tp.edu.tw/\n",
            "臺北市立臺北特殊教育學校 　[11153]臺北市士林區忠誠路二段207巷3號 　02-28749117 　http://www.tpmr.tp.edu.tw/\n",
            "臺北市立啟明學校 　臺北市士林區忠誠路二段207巷1號 　02-2874-0670 　http://www.tmsb.tp.edu.tw/nss/p/index\n",
            "國立桃園啟智學校 　[33062]桃園市桃園區德壽街 10 號 　03-3647099 　http://www.tsad.tyc.edu.tw/\n",
            "私立惠明學校 　[428]台中市大雅區雅潭路四段336號 　04-25661024 　http://www.hmsh.tc.edu.tw/\n",
            "臺中市立臺中特殊教育學校 　[40861]臺中市南屯區公益路2段296號 　04-22582289 　www.tcspe.tc.edu.tw\n",
            "高雄市立仁武特殊教育學校 　[814]高雄市仁武區八卦里澄觀路1389號 　07-3749788 　http://w3.ses.ks.edu.tw/\n",
            "高雄市立楠梓特殊學校 　高雄市楠梓區德民路211號 　07-3642007 　http://www.nzsmr.kh.edu.tw\n",
            "高雄市立高雄特殊教育學校 　[802]高雄市苓雅區憲政路233巷2號 　07-223-5940 　http://www.kmsmr.kh.edu.tw/\n",
            "高雄市立成功特殊教育學校 　高雄市前鎮區80654復興三路3號 　07-3304624 　http://www.ckmr.kh.edu.tw/\n",
            "國立宜蘭特殊教育學校 　[26843]宜蘭縣五結鄉國民中路22-20號 　03-950-9788 　http://www.isse.ilc.edu.tw/\n",
            "國立新竹特殊教育學校 　[302]新竹縣竹北市光明六路東二段201號 　03-6676639 　http://www.nhs.hcc.edu.tw/\n",
            "國立苗栗特殊教育學校 　苗栗縣苗栗市嘉新里經國路四段825號 　037-266498 　www.mlses.mlc.edu.tw\n",
            "國立南投特殊教育學校 　[54046]南投縣南投市中興新村仁德路200號 　049-2390773 　http://www.ntss.ntct.edu.tw/index.php\n",
            "國立雲林特殊教育學校 　[63049]雲林縣斗南鎮新崙里新崙路100號 　05-5969241 　http://www.nyses.ylc.edu.tw/\n",
            "國立屏東特殊教育學校 　屏東縣潮州鎮光春路311號 　08-7805510 　http://web.pses.ptc.edu.tw/default1.asp\n",
            "國立臺東大學附屬特殊教育學校 　臺東市中興路三段401巷170號 　089-229912~4 　http://www.nttusps.nttu.edu.tw/\n",
            "國立花蓮特殊教育學校 　[973]花蓮縣吉安鄉中山路二段2號 　03-8544225 　http://www.hlmrs.hlc.edu.tw/default.asp\n",
            "國立基隆特殊教育學校 　[20650]基隆市七堵區堵南街20號 　02-2452-6332 　http://www.klses.kl.edu.tw/\n",
            "國立嘉義特殊教育學校 　[600]嘉義市世賢路二段123號 　05-2858549 　https://www.cymrs.cy.edu.tw/\n",
            "國立高雄餐旅大學附屬餐旅高級中等學校 　高雄市小港區松和路40號 　07-8060705 　http://nkhhs.kmhjh.kh.edu.tw/\n",
            "新北市立樟樹國際實創高級中等學校 　新北市汐止區樟樹二路135號 　02-26430686 　http://www.ctjhs.ntpc.edu.tw/\n",
            "臺中市立神岡工業高級中等學校 　臺中市神岡區中山路627號 　04-25623421 　https://sgihs.tc.edu.tw/\n"
          ],
          "name": "stdout"
        }
      ]
    },
    {
      "cell_type": "code",
      "metadata": {
        "id": "AuYBku-uBj3z"
      },
      "source": [
        "with open('test.txt','w') as f:\n",
        "  f.write('Hello World')"
      ],
      "execution_count": 23,
      "outputs": []
    },
    {
      "cell_type": "code",
      "metadata": {
        "colab": {
          "base_uri": "https://localhost:8080/"
        },
        "id": "nymiLGRgB0bt",
        "outputId": "020c8dc1-3924-45cc-a7d0-e7dbeab09968"
      },
      "source": [
        "!cat test.txt\n"
      ],
      "execution_count": 24,
      "outputs": [
        {
          "output_type": "stream",
          "text": [
            "Hello World"
          ],
          "name": "stdout"
        }
      ]
    },
    {
      "cell_type": "markdown",
      "metadata": {
        "id": "MYg4L39jCTuS"
      },
      "source": [
        "#把爬到的資料存到csv檔"
      ]
    },
    {
      "cell_type": "code",
      "metadata": {
        "id": "Fmka2NoDCRuz"
      },
      "source": [
        "#全國高職學校 19頁\n",
        "\n",
        "import requests\n",
        "from bs4 import BeautifulSoup\n",
        "\n",
        "with open('school.csv','w') as f:\n",
        "  f.write('學校, 住址, 電話, 網址\\n')\n",
        "\n",
        "for i in range(1,20):\n",
        "  url=\"https://highschool.yjvs.chc.edu.tw/search/index.php?no=2&page=\"+str(i)\n",
        "  html=requests.get(url)\n",
        "\n",
        "  sp=BeautifulSoup(html.text,\"html.parser\")\n",
        "  sp.title\n",
        "  datas=sp.find('div',id=\"school-list\").find_all('table')\n",
        "  for data in datas:\n",
        "    school=data.find_all('li')\n",
        "    with open('school.csv','a') as f:\n",
        "      f.write(\"{},{},{},{}\\n\".format(school[0].text,school[1].text,school[2].text,school[3].text))\n",
        "    #print(school[0].text,school[1].text,school[2].text,school[3].text)"
      ],
      "execution_count": 25,
      "outputs": []
    },
    {
      "cell_type": "code",
      "metadata": {
        "colab": {
          "base_uri": "https://localhost:8080/"
        },
        "id": "RrwrQ3g9DWCj",
        "outputId": "5e26cd8b-8c9f-42bc-d770-adebcc346ca1"
      },
      "source": [
        "!cat -n school.csv"
      ],
      "execution_count": 27,
      "outputs": [
        {
          "output_type": "stream",
          "text": [
            "     1\t學校, 住址, 電話, 網址\n",
            "     2\t嘉義縣私立協志高級工商職業學校,　[621]嘉義縣民雄鄉建國路二段285巷11號,　05-2264264,　http://www3.ccivs.cyc.edu.tw/2014/\n",
            "     3\t臺北市私立滬江高級中學,　[116]台北市文山區景美里羅斯福路6段336號,　02-86631122,　http://www.hchs.tp.edu.tw\n",
            "     4\t臺中市明台高級中學,　[413]臺中市霧峰區萊園路91號,　04-23393071,　http://www.mths.tc.edu.tw\n",
            "     5\t高雄市私立大榮高級中學,　[804]高雄市鼓山區大榮街1號,　07-5613281,　http://www.dystcs.kh.edu.tw//\n",
            "     6\t國立臺灣海洋大學附屬基隆海事高級中等學校,　[20243]基隆市中正區祥豐街246號,　02-24633655,　http://www.klms.ntou.edu.tw/\n",
            "     7\t國立基隆高級商工職業學校,　[206]基隆市七堵區東新街22號,　02-24567126,　http://www.klcivs.kl.edu.tw/SchoolWeb/\n",
            "     8\t光隆學校財團法人基隆市光隆高級家事商業職業學校,　[201]基隆市信義區信二路264號,　02-24222237,　http://www.klhcvs.kl.edu.tw/\n",
            "     9\t基隆市私立培德高級工業家事職業學校,　[201]基隆市信義區培德路73號,　02-24652121,　http://www.ptvs.kl.edu.tw\n",
            "    10\t育達學校財團法人臺北市私立普林思頓高級中等學校,　[105]臺北市松山區美仁里寧安街12號,　02-25706767,　http://www.yudah.tp.edu.tw\n",
            "    11\t臺北市立松山高級商業家事職業學校,　[11080]台北市信義區松山路655號,　02-27261118,　http://www.ssvs.tp.edu.tw\n",
            "    12\t臺北市立松山高級工農職業學校,　[110]臺北市信義區忠孝東路五段236巷15號,　02-27226616,　http://www.saihs.edu.tw\n",
            "    13\t臺北市私立東方高級工商職業學校,　[106]台北市大安區信義路四段186巷8號,　02-27554616,　http://www.tfvs.tp.edu.tw/\n",
            "    14\t臺北市私立喬治高級工商職業學校,　[110]台北市信義區黎順里基隆路2段155號,　02-27386515,　http://www.gvs.tp.edu.tw\n",
            "    15\t臺北市立大安高級工業職業學校,　[106]臺北市大安區龍圖里復興南路2段52號,　02-27091630,　http://www.taivs.tp.edu.tw\n",
            "    16\t臺北市私立稻江高級護理家事職業學校,　[104]台北市中山區新生北路三段55號,　02-25955161,　http://www.tcnvs.tp.edu.tw\n",
            "    17\t開南學校財團法人臺北市開南高級中等學校,　[10051]台北市中正區東門里濟南路1段6號,　02-23212666,　http://www.knvs.tp.edu.tw\n",
            "    18\t臺北市私立稻江高級商業職業學校,　[103]台北市大同區國昌里民權西路225巷24號,　02-25912001、02-25573055,　http://www.tkcvs.tp.edu.tw\n",
            "    19\t臺北市立木柵高級工業職業學校,　[116]台北市文山區萬芳里木柵路4段77號,　02-22300506,　http://www.mcvs.tp.edu.tw\n",
            "    20\t臺北市立南港高級工業職業學校,　[115]臺北市南港區興中路29號,　02-27825432,　http://www.nkhs.tp.edu.tw/ischool/publish_page/0/\n",
            "    21\t國立臺灣戲曲學院(高職部),　內湖校區：114臺北市內湖區內湖路二段177號；木柵校區：116臺北市文山區木柵路三段66巷8之1號,　內湖(02)27962666；木柵(02)29367231,　http://www.tcpa.edu.tw/\n",
            "    22\t臺北市立內湖高級工業職業學校,　[11493]臺北市內湖區港墘里內湖路1段520號,　02-2657-4874,　http://www.nihs.tp.edu.tw\n",
            "    23\t臺北市私立華岡藝術學校,　[111095]台北市士林區建業路73巷8號,　02-28612354,　http://www.hka.edu.tw\n",
            "    24\t臺北市立士林高級商業職業學校,　[11165]台北市士林區士商路150號,　02-28313114,　http://www.slhs.tp.edu.tw\n",
            "    25\t臺北市私立惇敘高級工商職業學校,　[112]台北市北投區林泉里泉源路221號,　02-28912630,　http://www.thvs.tp.edu.tw\n",
            "    26\t新北市立瑞芳高級工業職業學校,　[22441]新北市瑞芳區瑞芳街60號,　02-24972516,　http://www.jfvs.ntpc.edu.tw\n",
            "    27\t新北市立三重高級商工職業學校,　[24162]新北市三重區中正北路163號,　02-29715606#203~206,　http://www.scvs.ntpc.edu.tw\n",
            "    28\t新北市立新北高級工業職業學校,　[236]新北市土城區學府路一段241號,　02-22612483,　http://www.ntvs.ntpc.edu.tw/\n",
            "    29\t新北市立淡水高級商工職業學校,　[251]新北市淡水區商工路307號,　02-26203930,　http://www.tsvs.ntpc.edu.tw\n",
            "    30\t新北市私立樹人高級家事商業職業學校,　[238]新北市樹林區大安路216號,　02-26870391#128、168,　http://www.stgvs.ntpc.edu.tw\n",
            "    31\t新北市私立復興高級商工職業學校,　[234]新北市永和區秀朗路一段201號,　02-29262121,　http://www.fhvs.ntpc.edu.tw\n",
            "    32\t新北市私立南強高級工商職業學校,　[231]新北市新店區文化路42號,　02-29155144,　http://www.ncvs.ntpc.edu.tw\n",
            "    33\t穀保學校財團法人新北市穀保高級家事商業職業學校,　[241]新北市三重區中正北路560巷38號,　02-29712343,　http://www.kpvs.ntpc.edu.tw\n",
            "    34\t新北市私立開明高級工業商業職業學校,　[231]新北市新店區寶中路49號,　02-29136061,　http://210.70.203.6/ischool/publish_page/0/\n",
            "    35\t新北市智光高級商工職業學校,　[234]新北市永和區中正路100號,　02-29432491,　http://www.ckvs.ntpc.edu.tw\n",
            "    36\t清傳學校財團法人新北市清傳高級商業職業學校,　[241]新北市三重區五谷王北街141巷1號,　02-29955535,　http://210.59.43.232/ischool/publish_page/0/\n",
            "    37\t能仁學校財團法人新北市能仁高級家事商業職業學校,　[23152]新北市新店區文中路53巷10號,　02-29182399,　http://www.nrvs.ntpc.edu.tw\n",
            "    38\t新北市私立豫章高級工商職業學校,　[220]新北市板橋區四川路一段391號,　02-29519810,　http://www.ycvs.ntpc.edu.tw\n",
            "    39\t新北市私立莊敬高級工業家事職業學校,　[231]新北市新店區民生路45號      [234]新北市永和區博愛街36號,　02-22188956#126、118,　http://www.jjvs.ntpc.edu.tw\n",
            "    40\t新北市私立中華商業海事職業學校,　[207]新北市萬里區瑪鋉路15號,　02-24922119,　http://www.chmvs.ntpc.edu.tw\n",
            "    41\t新北市立鶯歌高級工商職業學校,　[23942]新北市鶯歌區中正三路154號,　02-26775040,　http://www.ykvs.ntpc.edu.tw\n",
            "    42\t國立宜蘭高級商業職業學校,　[260]宜蘭縣宜蘭市延平路50號,　03-9384147,　http://www.ilvs.ilc.edu.tw/\n",
            "    43\t國立羅東高級商業職業學校,　[265]宜蘭縣羅東鎮中山路四段360號,　03-9512875,　http://www.ltcvs.ilc.edu.tw\n",
            "    44\t國立蘇澳高級海事水產職業學校,　[270]宜蘭縣蘇澳鎮蘇港路213號,　03-9951661,　http://www.savs.ilc.edu.tw\n",
            "    45\t國立羅東高級工業職業學校,　[269]宜蘭縣冬山鄉廣興路117號,　03-9514196,　http://web.ltivs.ilc.edu.tw/bin/home.php\n",
            "    46\t國立頭城高級家事商業職業學校,　[261]宜蘭縣頭城鎮新興路111號,　03-9771131,　http://www.tcvs.ilc.edu.tw\n",
            "    47\t國立臺北科技大學附屬桃園農工高級中等學校,　[33047]桃園縣桃園市成功路二段144號,　03-3333921,　http://www.tyai.tyc.edu.tw\n",
            "    48\t桃園市立中壢商業高級中等學校,　[320]桃園市中壢區中央西路二段141巷100號,　03-4929871,　http://www.clvsc.tyc.edu.tw\n",
            "    49\t桃園市立中壢家事商業高級中等學校,　[320]桃園市中壢區德育路36號,　03-4271627,　http://www.clvs.tyc.edu.tw\n",
            "    50\t桃園市私立成功高級工商職業學校,　[333]桃園市龜山區新興里明德路162巷100號,　03-3294188,　http://www.ckvs.tyc.edu.tw\n",
            "    51\t方曙學校財團法人桃園市方曙商工高級中等學校,　[325]桃園市龍潭區上林村中原路一段50號,　03-4796345,　http://www.fsvs.tyc.edu.tw\n",
            "    52\t永平學校財團法人桃園市私立永平工商高級中等學校,　[326]桃園市楊梅區埔心永平路480號,　03-4817741,　http://www.ypvs.tyc.edu.tw\n",
            "    53\t國立新竹高級商業職業學校,　[300]新竹市東區學府路128號,　03-5722150,　http://www.hccvs.hc.edu.tw\n",
            "    54\t國立新竹高級工業職業學校,　[30060]新竹市東區中華路二段2號,　03-5322175,　http://www.hcvs.hc.edu.tw\n",
            "    55\t新竹縣私立內思高級工業職業學校,　[30595]新竹縣新埔鎮四座里楊新路一段40號,　03-5882520,　http://www.savs.hcc.edu.tw\n",
            "    56\t國立大湖高級農工職業學校,　[364]苗栗縣大湖鄉大寮村竹高屋68號,　037-992216,　http://www.thvs.mlc.edu.tw\n",
            "    57\t臺中市立臺中家事商業高級中等學校,　[401]臺中市東區和平街50號,　04-22223307,　http://www.tchcvs.tc.edu.tw\n",
            "    58\t國立中興大學附屬臺中高級農業職業學校,　[401]臺中市東區台中路283號,　04-22810010,　http://www.tcavs.tc.edu.tw\n",
            "    59\t臺中市立臺中工業高級中等學校,　[402]臺中市南區高工路191號,　04-22613158,　http://www.tcivs.tc.edu.tw\n",
            "    60\t光華學校財團法人臺中市光華高級工業職業學校,　41141臺中市太平區東平路18號,　04-23949009,　http://www.khvs.tc.edu.tw\n",
            "    61\t國立彰化特殊教育學校,　[511]彰化縣社頭鄉中山路一段306號,　04-8727303,　http://www.chsmr.chc.edu.tw/\n",
            "    62\t國立華南高級商業職業學校,　[60048]嘉義市東區光彩街69號,　05-2787140,　http://www.phnvs.cy.edu.tw\n",
            "    63\t國立嘉義高級工業職業學校,　[600]嘉義市東區彌陀路174號,　05-2763060,　http://www.cyivs.cy.edu.tw\n",
            "    64\t國立嘉義高級商業職業學校,　[600]嘉義市東區中山路7號,　05-2782421,　http://www.cyvs.cy.edu.tw\n",
            "    65\t國立嘉義高級家事職業學校,　[600]嘉義市東區體育路7號,　05-2259640,　http://www.cyhvs.cy.edu.tw\n",
            "    66\t嘉義市私立東吳高級工業家事職業學校,　[600]嘉義市東區宣信街252號,　05-2246161,　https://www.dwvs.cy.edu.tw/\n",
            "    67\t國立民雄高級農工職業學校,　[621]嘉義縣民雄鄉文隆村81號,　05-2267120#232,　http://www.mhvs.cyc.edu.tw\n",
            "    68\t嘉義縣私立萬能高級工商職業學校,　[608]嘉義縣水上鄉萬能路1號,　05-2687777,　http://www.wnvs.cyc.edu.tw/2019/\n",
            "    69\t弘德學校財團法人嘉義縣弘德高級工商職業學校,　[613]嘉義縣朴子市崁後里54之2號,　05-3691473,　http://www.cdvs.cyc.edu.tw\n",
            "    70\t國立新化高級工業職業學校,　[71242]台南市新化區信義路54號,　06-5903420,　http://www.hhvs.tn.edu.tw\n",
            "    71\t國立白河高級商工職業學校,　[732]台南市白河區永安里新興路528號,　06-6852054轉201、211~213及215,　http://www.phvs.tn.edu.tw/index.asp\n",
            "    72\t國立北門高級農工職業學校,　[722]臺南市佳里區六安里117號,　06-7260148,　http://www.pmai.tn.edu.tw\n",
            "    73\t國立曾文高級家事商業職業學校,　[72148]台南市麻豆區和平路9號,　06-5722079,　http://www.twvs.tn.edu.tw\n",
            "    74\t國立新營高級工業職業學校,　[73060]臺南市新營區中正路68號,　06-6322377,　http://www.hyivs.tn.edu.tw\n",
            "    75\t國立玉井高級工商職業學校,　[71445]台南市玉井區中山路1-1號,　06-5741101,　http://www.ycvs.tn.edu.tw\n",
            "    76\t國立臺南高級工業職業學校,　[710]台南市永康區中山南路193號,　06-2322131,　http://www.ptivs.tn.edu.tw/\n",
            "    77\t國立曾文高級農工職業學校,　[721]台南市麻豆區南勢里1號,　06-5721137,　http://www.twivs.tn.edu.tw\n",
            "    78\t國立臺南大學附屬啟聰學校,　[71242]台南市新化區信義路52號,　06-5900504,　http://www.tndsh.tn.edu.tw/\n",
            "    79\t陽明學校財團法人臺南市陽明高級工商職業學校,　[720]台南市官田區官田里423號,　06-6901190,　http://www.ymvs.tn.edu.tw\n",
            "    80\t臺南市私立育德工業家事職業學校,　[730]台南市新營區健康路211號,　06-6563275,　http://www.ytvs.tn.edu.tw/#\n",
            "    81\t國立臺南高級商業職業學校,　[702]臺南市南區健康路一段327號,　06-2617123,　https://www.tncvs.tn.edu.tw\n",
            "    82\t國立臺南高級海事水產職業學校,　[708]臺南市安平區世平路1號,　06-3910772,　http://www.tnvs.tn.edu.tw\n",
            "    83\t臺南市私立南英高級商工職業學校,　[70051]臺南市中西區永福路一段149號,　06-2131912,　http://www.nyvs.tn.edu.tw\n",
            "    84\t臺南市亞洲高級餐旅職業學校,　[702]臺南市南區大成路一段5號,　06-2640175,　http://www.asvs.tn.edu.tw\n",
            "    85\t臺南市私立慈幼高級工商職業學校,　[701]臺南市東區裕農路801號,　06-2362106,　http://www.ssvs.tn.edu.tw\n",
            "    86\t國立旗山高級農工職業學校,　[842]高雄市旗山區旗甲路一段195號,　07-6612501,　http://www.csvs.khc.edu.tw\n",
            "    87\t國立岡山高級農工職業學校,　[82049]高雄市岡山區壽天里岡山路533號,　07-6217129,　http://www.ksvs.khc.edu.tw\n",
            "    88\t國立鳳山高級商工職業學校,　[83052]高雄市鳳山區文衡路51號,　07-7462602,　http://www.fsvs.ks.edu.tw\n",
            "    89\t中山學校財團法人高雄市中山高級工商職業學校,　[831]高雄市大寮區會社里正氣路79號,　07-782-7311、07-781-5311,　http://www2.csic.khc.edu.tw/PPP/index.asp\n",
            "    90\t高雄市私立旗美高級商工職業學校,　[843]高雄市美濃區中興路二段275號,　07-6812152,　http://cm.cmvsedu.tw/\n",
            "    91\t高雄市私立高英高級工商職業學校,　[831]高雄市大寮區鳳林三路19巷44號,　07-7832991,　http://www.kyicvs.khc.edu.tw/\n",
            "    92\t華德學校財團法人高雄市華德高級工業家事職業學校,　[852]高雄市茄萣區濱海路四段66號,　07-6921212,　http://www.hdvs.kh.edu.tw\n",
            "    93\t私立高苑高級工商職業學校,　[82544]高雄市橋頭區東林里芋寮路一號,　07-6111101~7,　http://www.kyvs.ks.edu.tw\n",
            "    94\t國立內埔高級農工職業學校,　[912]屏東縣內埔鄉水門村成功路83號,　08-7991103,　http://www.npvs.ptc.edu.tw\n",
            "    95\t國立屏東高級工業職業學校,　[900]屏東縣屏東市建國路25號,　08-7523781,　http://www.ptivs.ptc.edu.tw\n",
            "    96\t國立佳冬高級農業職業學校,　[931]屏東縣佳冬鄉佳冬村佳農街67號,　08-8662726,　https://www.ctvs.ptc.edu.tw\n",
            "    97\t國立東港高級海事水產職業學校,　[928]屏東縣東港鎮豐漁街66號,　08-8333131,　http://www.tkms.ptc.edu.tw\n",
            "    98\t國立恆春高級工商職業學校,　[946]屏東縣恆春鎮恆南路38號,　08-8892010,　http://www.hcvs.ptc.edu.tw\n",
            "    99\t屏東縣私立民生高級家事商業職業學校,　[900005]屏東縣屏東市民生東路12號,　08-7223029,　https://www.msvs.ptc.edu.tw\n",
            "   100\t屏東縣私立華洲高級工業家事職業學校,　[900]屏東縣屏東市歸心里歸仁路63巷99號,　08-7521516～219,　http://www.hcivs.ptc.edu.tw\n",
            "   101\t屏東縣私立日新高級工商職業學校,　[920]屏東縣潮州鎮太平路224號,　08-7882343,　http://www.jhvs.ptc.edu.tw\n",
            "   102\t國立花蓮高級農業職業學校,　[970]花蓮縣花蓮市建國路161號,　03-8312301,　http://www.hla.hlc.edu.tw\n",
            "   103\t國立花蓮高級工業職業學校,　[97058]花蓮縣花蓮市府前路27號,　03-8226108,　http://www.hlis.hlc.edu.tw\n",
            "   104\t國立花蓮高級商業職業學校,　[970]花蓮縣花蓮市中山路418號,　03-8334646,　http://www.hlbh.hlc.edu.tw\n",
            "   105\t國立光復高級商工職業學校,　[976]花蓮縣光復鄉林森路100號,　03-8700245,　http://www.kfcivs.hlc.edu.tw\n",
            "   106\t花蓮縣上騰高級工商職業學校,　[973]花蓮縣吉安鄉吉安村吉興四街101號,　038-538565,　http://www.chvs.hlc.edu.tw/sundance/\n",
            "   107\t國立臺東專科學校附設高職部,　[950]臺東縣臺東市正氣北路889號,　089-226389,　http://www.ntc.edu.tw\n",
            "   108\t國立關山高級工商職業學校,　[956]臺東縣關山鎮民權路58號,　089-811006,　https://www.ksvs.ttct.edu.tw/\n",
            "   109\t國立臺東高級商業職業學校,　[950]臺東縣臺東市正氣路440號,　089-350575,　http://www.tscvs.ttct.edu.tw\n",
            "   110\t國立成功商業水產職業學校,　[961]臺東縣成功鎮太平路52號,　089-850011,　http://www.ckvs.ttct.edu.tw\n",
            "   111\t臺東縣私立公東高級工業職業學校,　[950]臺東縣臺東市中興路一段560號,　089-222877,　http://web1.ktus.ttct.edu.tw/bin/home.php\n",
            "   112\t國立澎湖高級海事水產職業學校,　[88042]澎湖縣馬公市中興里民族路63號,　06-9261101,　http://www.phmhs.phc.edu.tw\n",
            "   113\t國立苗栗高級農工職業學校,　[36057]苗栗縣苗栗市經國路二段491號,　037-329281,　http://www.mlaivs.mlc.edu.tw\n",
            "   114\t國立苗栗高級商業職業學校,　[36047]苗栗縣苗栗市電台街7號,　037-356001,　http://www.mlvs.mlc.edu.tw\n",
            "   115\t苗栗縣私立中興高級商工職業學校,　[350]苗栗縣竹南鎮大營路211號,　037-467360,　http://www.csvs.mlc.edu.tw\n",
            "   116\t苗栗縣私立育民高級工業家事職業學校,　[360]苗栗縣苗栗市水源里育民街37號,　037-353888,　http://www.ymvs.mlc.edu.tw\n",
            "   117\t苗栗縣私立賢德高級工商職業學校,　[357]苗栗縣通霄鎮五北里74之1號,　037-751011,　http://www.sdvs.mlc.edu.tw\n",
            "   118\t苗栗縣私立龍德家事商業職業學校,　[358]苗栗縣苑裡鎮房裡里南房75之1號,　037-851277,　http://www.ldvs.mlc.edu.tw\n",
            "   119\t臺中市立豐原商業高級中等學校,　[420]台中市豐原區圓環南路50號,　04-25283556,　http://www.fyvs.tc.edu.tw\n",
            "   120\t臺中市立大甲工業高級中等學校,　[437]臺中市大甲區頂店里開元路71號,　04-26874132,　http://www.tcvs.tc.edu.tw/\n",
            "   121\t臺中市立東勢工業高級中等學校,　[423]臺中市東勢區東關路6段1328號,　04-25872136,　http://www.tsvs.tc.edu.tw/\n",
            "   122\t臺中市立沙鹿工業高級中等學校,　433臺中市沙鹿區臺灣大道七段823號,　04-26621795,　http://www.slvs.tc.edu.tw\n",
            "   123\t臺中市立霧峰農業工業高級中等學校,　[413]臺中市霧峰區中正路1222號,　04-23303118,　http://www.wufai.edu.tw\n",
            "   124\t國立彰化師範大學附屬高級工業職業學校,　[500]彰化縣彰化市和調里工校街1號,　04-7252541,　http://www.sivs.chc.edu.tw\n",
            "   125\t國立永靖高級工業職業學校,　[512]彰化縣永靖鄉永北村永坡路101號,　04-8221810,　https://www.yjvs.chc.edu.tw/home\n",
            "   126\t國立二林高級工商職業學校,　[526]彰化縣二林鎮豐田里斗苑路四段500號,　04-8962132,　http://www.elvs.chc.edu.tw\n",
            "   127\t國立秀水高級工業職業學校,　[504]彰化縣秀水鄉福安村中山路364號,　04-7697021,　http://www.ssivs.chc.edu.tw\n",
            "   128\t國立彰化高級商業職業學校,　[500]彰化縣彰化市華陽里南郭路一段326號,　04-7262623,　http://www.chsc.tw/\n",
            "   129\t國立員林高級農工職業學校,　[510]彰化縣員林鎮員水路二段313號,　04-8360105,　http://www.ylvs.chc.edu.tw\n",
            "   130\t國立員林崇實高級工業職業學校,　[510]彰化縣員林市育英路103號,　04-8347106,　http://www.csvs.chc.edu.tw\n",
            "   131\t國立員林高級家事商業職業學校,　[510]彰化縣員林市中正路56號,　04-8320260,　http://www.ylhcvs.chc.edu.tw\n",
            "   132\t國立北斗高級家事商業職業學校,　[521]彰化縣北斗鎮學府路50號,　04-8882224,　http://www.pthc.chc.edu.tw\n",
            "   133\t彰化縣私立大慶高級商工職業學校,　[510]彰化縣員林市山腳路二段206號,　04-8311005,　http://www.dcvs.chc.edu.tw\n",
            "   134\t彰化縣私立達德高級商工職業學校,　[520]彰化縣田中鎮中南路二段277號,　04-8753929,　http://www.tdvs.chc.edu.tw\n",
            "   135\t國立仁愛高級農業職業學校,　[546]南投縣仁愛鄉大同村山農巷27號,　049-2802619,　http://www.ravs.ntct.edu.tw\n",
            "   136\t國立埔里高級工業職業學校,　[545]南投縣埔里鎮中山路一段435號,　049-2982225,　https://www.plvs.ntct.edu.tw\n",
            "   137\t國立南投高級商業職業學校,　[540]南投縣南投市三興里彰南路一段993號,　049-2222269#2207~2209,　http://www.pntcv.ntct.edu.tw\n",
            "   138\t國立草屯高級商工職業學校,　[542]南投縣草屯鎮新庄里芬草路二段736號,　049-2362082,　http://www.ttvs.ntct.edu.tw\n",
            "   139\t國立水里高級商工職業學校,　[553]南投縣水里鄉南湖路2號,　049-2870666,　http://www.slvs.ntct.edu.tw/\n",
            "   140\t同德學校財團法人南投縣同德高級中等學校,　[542]南投縣草屯鎮中正路培英巷8號,　049-2553109,　http://www.tdvs.ntct.edu.tw\n",
            "   141\t國立虎尾高級農工職業學校,　[63244]雲林縣虎尾鎮公安里博愛路65號,　05-6322767,　http://www.hwaivs.ylc.edu.tw\n",
            "   142\t國立西螺高級農工職業學校,　[648]雲林縣西螺鎮大同路4號,　05-5862024,　http://www.hlvs.ylc.edu.tw\n",
            "   143\t國立斗六高級家事商業職業學校,　[640]雲林縣斗六市成功路120號,　05-5322147,　http://www.tlhc.ylc.edu.tw\n",
            "   144\t國立北港高級農工職業學校,　[651]雲林縣北港鎮太平路80號,　05-7832246,　http://www.pkvs.ylc.edu.tw/\n",
            "   145\t國立土庫高級商工職業學校,　[633]雲林縣土庫鎮中央路2號,　05-6622538,　http://www.tkvs.ylc.edu.tw\n",
            "   146\t雲林縣私立大成高級商工職業學校,　[632]雲林縣虎尾鎮成平街21號,　05-6322534轉22,　http://www.tcvhs.ylc.edu.tw\n",
            "   147\t雲林縣私立大德工業商業職業學校,　[630]雲林縣斗南鎮大同路400號,　05-5970977,　http://www.ddvs.ylc.edu.tw/\n",
            "   148\t高雄市私立中華藝術學校,　[804]高雄市鼓山區美術館路89號,　07-5549696,　http://www.charts.kh.edu.tw\n",
            "   149\t高雄市立海青高級工商職業學校,　[813]高雄市左營區左營大路1號,　07-5819155,　http://www.hcvs.kh.edu.tw\n",
            "   150\t高雄市立三民高級家事商業職業學校,　[813]高雄市左營區裕誠路1102號,　07-5525887,　http://www.smvhs.kh.edu.tw\n",
            "   151\t高雄市私立樹德高級家事商業職業學校,　[807]高雄市三民區建興路116號,　07-3848622,　http://www.shute.kh.edu.tw\n",
            "   152\t高雄市立高雄高級工業職業學校,　[80778]高雄市三民區建工路419號,　07-3815366,　http://www.ksvs.kh.edu.tw\n",
            "   153\t高雄市立高雄高級商業職業學校,　[80045]高雄市新興區五福二路3號,　07-2269975,　http://www.ksvcs.kh.edu.tw\n",
            "   154\t國際學校財團法人高雄市國際商工高級中等學校,　[802]高雄市苓雅區三多二路84號,　07-7228665#251,　http://www.kcvs.kh.edu.tw\n",
            "   155\t高雄市私立三信高級家事商業職業學校,　[802]高雄市苓雅區三多一路186號,　07-7517171,　http://www.sanhsin.edu.tw\n",
            "   156\t高雄市立中正高級工業職業學校,　[806]高雄市前鎮區光華二路80號,　07-7232301,　http://www.ccvs.kh.edu.tw\n",
            "   157\t國立金門高級農工職業學校,　[891]金門縣金湖鎮新市里復興路1之11號,　082-333508,　http://www.kmvs.km.edu.tw/\n",
            "   158\t臺北市私立開平餐飲職業學校,　[106]台北市大安區復興南路2段148巷24號,　02-27556939,　http://www.kpvs.tp.edu.tw\n",
            "   159\t國立臺南特殊教育學校,　709 臺南市安南區長和路二段74號,　06-355-4591~3,　http://www.tnmr.tn.edu.tw/index.php\n",
            "   160\t臺中市立啟聰學校,　臺中市西屯區安和路1號,　04-23589577,　www.thdf.tc.edu.tw\n",
            "   161\t新北市立新北特殊教育學校,　[244]新北市林口區文化北路一段425號,　02-26006768,　http://210.60.207.4/default.asp\n",
            "   162\t臺北市立啟聰學校,　台北市大同區重慶北路三段320號,　02-25924446,　http://www.tmd.tp.edu.tw/tmd/\n",
            "   163\t臺北市立文山特殊教育學校,　[11665]臺北市文山區 秀明路一段 169 號,　02-86615183,　http://www.wsses.tp.edu.tw/\n",
            "   164\t臺北市立臺北特殊教育學校,　[11153]臺北市士林區忠誠路二段207巷3號,　02-28749117,　http://www.tpmr.tp.edu.tw/\n",
            "   165\t臺北市立啟明學校,　臺北市士林區忠誠路二段207巷1號,　02-2874-0670,　http://www.tmsb.tp.edu.tw/nss/p/index\n",
            "   166\t國立桃園啟智學校,　[33062]桃園市桃園區德壽街 10 號,　03-3647099,　http://www.tsad.tyc.edu.tw/\n",
            "   167\t私立惠明學校,　[428]台中市大雅區雅潭路四段336號,　04-25661024,　http://www.hmsh.tc.edu.tw/\n",
            "   168\t臺中市立臺中特殊教育學校,　[40861]臺中市南屯區公益路2段296號,　04-22582289,　www.tcspe.tc.edu.tw\n",
            "   169\t高雄市立仁武特殊教育學校,　[814]高雄市仁武區八卦里澄觀路1389號,　07-3749788,　http://w3.ses.ks.edu.tw/\n",
            "   170\t高雄市立楠梓特殊學校,　高雄市楠梓區德民路211號,　07-3642007,　http://www.nzsmr.kh.edu.tw\n",
            "   171\t高雄市立高雄特殊教育學校,　[802]高雄市苓雅區憲政路233巷2號,　07-223-5940,　http://www.kmsmr.kh.edu.tw/\n",
            "   172\t高雄市立成功特殊教育學校,　高雄市前鎮區80654復興三路3號,　07-3304624,　http://www.ckmr.kh.edu.tw/\n",
            "   173\t國立宜蘭特殊教育學校,　[26843]宜蘭縣五結鄉國民中路22-20號,　03-950-9788,　http://www.isse.ilc.edu.tw/\n",
            "   174\t國立新竹特殊教育學校,　[302]新竹縣竹北市光明六路東二段201號,　03-6676639,　http://www.nhs.hcc.edu.tw/\n",
            "   175\t國立苗栗特殊教育學校,　苗栗縣苗栗市嘉新里經國路四段825號,　037-266498,　www.mlses.mlc.edu.tw\n",
            "   176\t國立南投特殊教育學校,　[54046]南投縣南投市中興新村仁德路200號,　049-2390773,　http://www.ntss.ntct.edu.tw/index.php\n",
            "   177\t國立雲林特殊教育學校,　[63049]雲林縣斗南鎮新崙里新崙路100號,　05-5969241,　http://www.nyses.ylc.edu.tw/\n",
            "   178\t國立屏東特殊教育學校,　屏東縣潮州鎮光春路311號,　08-7805510,　http://web.pses.ptc.edu.tw/default1.asp\n",
            "   179\t國立臺東大學附屬特殊教育學校,　臺東市中興路三段401巷170號,　089-229912~4,　http://www.nttusps.nttu.edu.tw/\n",
            "   180\t國立花蓮特殊教育學校,　[973]花蓮縣吉安鄉中山路二段2號,　03-8544225,　http://www.hlmrs.hlc.edu.tw/default.asp\n",
            "   181\t國立基隆特殊教育學校,　[20650]基隆市七堵區堵南街20號,　02-2452-6332,　http://www.klses.kl.edu.tw/\n",
            "   182\t國立嘉義特殊教育學校,　[600]嘉義市世賢路二段123號,　05-2858549,　https://www.cymrs.cy.edu.tw/\n",
            "   183\t國立高雄餐旅大學附屬餐旅高級中等學校,　高雄市小港區松和路40號,　07-8060705,　http://nkhhs.kmhjh.kh.edu.tw/\n",
            "   184\t新北市立樟樹國際實創高級中等學校,　新北市汐止區樟樹二路135號,　02-26430686,　http://www.ctjhs.ntpc.edu.tw/\n",
            "   185\t臺中市立神岡工業高級中等學校,　臺中市神岡區中山路627號,　04-25623421,　https://sgihs.tc.edu.tw/\n"
          ],
          "name": "stdout"
        }
      ]
    }
  ]
}