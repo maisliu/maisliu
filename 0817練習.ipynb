{
  "nbformat": 4,
  "nbformat_minor": 0,
  "metadata": {
    "colab": {
      "name": "0817練習.ipynb",
      "provenance": [],
      "collapsed_sections": [],
      "authorship_tag": "ABX9TyOKvXzxg/2X0GUNaX3IlIkH",
      "include_colab_link": true
    },
    "kernelspec": {
      "name": "python3",
      "display_name": "Python 3"
    },
    "language_info": {
      "name": "python"
    }
  },
  "cells": [
    {
      "cell_type": "markdown",
      "metadata": {
        "id": "view-in-github",
        "colab_type": "text"
      },
      "source": [
        "<a href=\"https://colab.research.google.com/github/maisliu/maisliu/blob/main/0817%E7%B7%B4%E7%BF%92.ipynb\" target=\"_parent\"><img src=\"https://colab.research.google.com/assets/colab-badge.svg\" alt=\"Open In Colab\"/></a>"
      ]
    },
    {
      "cell_type": "code",
      "metadata": {
        "colab": {
          "base_uri": "https://localhost:8080/"
        },
        "id": "30n_GYvfJcm4",
        "outputId": "f402c574-c9ef-4e9d-e7d0-100059199af9"
      },
      "source": [
        "import requests\n",
        "url=\"http://ehappy.tw/bsdemo1.htm\"\n",
        "html=requests.get(url)\n",
        "html.encoding=\"utf-8\"\n",
        "print(html.text)"
      ],
      "execution_count": null,
      "outputs": [
        {
          "output_type": "stream",
          "text": [
            "﻿<!doctype html>\r\n",
            "<html lang=\"zh\">\r\n",
            "  <head>\r\n",
            "    <meta charset=\"UTF-8\">\r\n",
            "    <title>我是網頁標題</title>\r\n",
            "  </head>\r\n",
            "  <body>\r\n",
            "    <h1 class=\"large\">我是標題</h1>\r\n",
            "    <div>\r\n",
            "      <p>我是段落</p>\r\n",
            "      <img src=\"https://www.w3.org/html/logo/downloads/HTML5_Logo_256.png\" alt=\"我是圖片\">\r\n",
            "      <a href=\"http://www.e-happy.com.tw\">我是超連結</a>\r\n",
            "    </div>\r\n",
            "  </body>\r\n",
            "</html>\n"
          ],
          "name": "stdout"
        }
      ]
    },
    {
      "cell_type": "code",
      "metadata": {
        "colab": {
          "base_uri": "https://localhost:8080/",
          "height": 37
        },
        "id": "MVg9LUo_KT7b",
        "outputId": "15bc6db5-b5df-4ef3-f3cc-aad5f01b4ceb"
      },
      "source": [
        "from bs4 import BeautifulSoup\n",
        "sp=BeautifulSoup(html.text,'html.parser')\n",
        "sp.body.div.a.text\n",
        "#sp.a.text\n",
        "\n",
        "#取得某個標籤的屬性(2 way：get或[]中括號) a之下的超連結\n",
        "sp.a.get('href')\n",
        "sp.a['href']\n",
        "sp.img['src']"
      ],
      "execution_count": 29,
      "outputs": [
        {
          "output_type": "execute_result",
          "data": {
            "application/vnd.google.colaboratory.intrinsic+json": {
              "type": "string"
            },
            "text/plain": [
              "'https://www.w3.org/html/logo/downloads/HTML5_Logo_256.png'"
            ]
          },
          "metadata": {
            "tags": []
          },
          "execution_count": 29
        }
      ]
    },
    {
      "cell_type": "code",
      "metadata": {
        "colab": {
          "base_uri": "https://localhost:8080/"
        },
        "id": "MthR9g9SOd0R",
        "outputId": "aa74ade2-fc51-4385-e768-358e38c540dc"
      },
      "source": [
        "#多個項目處理\n",
        "import requests\n",
        "url=\"http://ehappy.tw/bsdemo2.htm\"\n",
        "html=requests.get(url)\n",
        "html.encoding=\"utf-8\"\n",
        "print(html.text)"
      ],
      "execution_count": 30,
      "outputs": [
        {
          "output_type": "stream",
          "text": [
            "﻿<!doctype html>\r\n",
            "<html>\r\n",
            "  <head>\r\n",
            "    <meta charset=\"UTF-8\">\r\n",
            "    <title>我是網頁標題</title>\r\n",
            "  </head>\r\n",
            "  <body>\r\n",
            "    <h1 class=\"large\">我是標題</h1>\r\n",
            "    <div>\r\n",
            "      <p id=\"p1\" class=\"large\">我是段落一</p>\r\n",
            "      <p id=\"p2\" style=\"font-size:16pt\">我是段落二</p>\r\n",
            "      <img src=\"https://www.w3.org/html/logo/downloads/HTML5_Logo_256.png\" alt=\"HTML5 logo\">\r\n",
            "      <ul>\r\n",
            "        <li class=\"odd\"><a href=\"http://www.ehappy.tw\">我是超連結1</a></li>\r\n",
            "        <li class=\"even\"><a href=\"http://www.e-happy.com.tw\">我是超連結2</a></li>\r\n",
            "      </ul>\r\n",
            "    </div>\r\n",
            "  </body>\r\n",
            "</html>\n"
          ],
          "name": "stdout"
        }
      ]
    },
    {
      "cell_type": "code",
      "metadata": {
        "colab": {
          "base_uri": "https://localhost:8080/"
        },
        "id": "VN-IEalmOhjB",
        "outputId": "dfa175fc-49d4-4177-c7a9-f0d00eb95595"
      },
      "source": [
        "sp=BeautifulSoup(html.text,'html.parser')\n",
        "#sp.find('p',id='p2').text\n",
        "#sp.find('li',class_='even').a.text\n",
        "#datas=sp.find_all('p')  #回傳的是串列\n",
        "datas=sp.find_all('a')  #回傳的是串列\n",
        "for data in datas:\n",
        "  #print(data.text)\n",
        "  print(data.get('href'))"
      ],
      "execution_count": 42,
      "outputs": [
        {
          "output_type": "stream",
          "text": [
            "http://www.ehappy.tw\n",
            "http://www.e-happy.com.tw\n"
          ],
          "name": "stdout"
        }
      ]
    },
    {
      "cell_type": "markdown",
      "metadata": {
        "id": "37lZ7YC5qUfG"
      },
      "source": [
        "#PTT美食版爬蟲"
      ]
    },
    {
      "cell_type": "code",
      "metadata": {
        "id": "FMh6k9MjoutG"
      },
      "source": [
        "#專題實作  \n",
        "#1．確定你要爬的網址：PTT美食版 https://www.ptt.cc/bbs/Food/index.html\n",
        "#2．開發人員工具 F12、按右鍵「檢查」就可以快速找到\n",
        "#內容都放在r-ent裡\n",
        "\n",
        "import requests\n",
        "from bs4 import BeautifulSoup\n",
        "#url=\"https://www.ptt.cc/bbs/Food/index.html\"\n",
        "url=\"https://www.ptt.cc/bbs/Food/index7001.html\"\n",
        "html=requests.get(url)\n",
        "# html  #200代表有爬到\n",
        "print(html.text) #看爬回來的東西\n",
        "#爬第一次就全抓回來了，不要一直重爬，所以不要重覆爬，創新的格子繼續處理"
      ],
      "execution_count": null,
      "outputs": []
    },
    {
      "cell_type": "code",
      "metadata": {
        "colab": {
          "base_uri": "https://localhost:8080/"
        },
        "id": "kOj3ly0arHK-",
        "outputId": "c77d0a8d-0a64-4bd0-d111-da2ad69f539b"
      },
      "source": [
        "sp=BeautifulSoup(html.text,\"html.parser\")\n",
        "sp.title #看一下是不是真的爬回來了\n",
        "#sp.title.text\n",
        "len(sp.find_all('div',class_=\"r-ent\")) #共有20則\n",
        "datas=sp.find_all('div',class_=\"r-ent\")\n",
        "for data in datas:\n",
        "  print(data.find('div',class_='date').text,end=\" \")\n",
        "  #print(\"https://www.ptt.cc/\" +data.a['href'],end=\" \")    #兩種語法都可以\n",
        "  print(\"https://www.ptt.cc/\" +data.a.get('href'),end=\" \")\n",
        "  print(data.a.text)\n",
        "  \n",
        "  "
      ],
      "execution_count": 60,
      "outputs": [
        {
          "output_type": "stream",
          "text": [
            " 8/15 https://www.ptt.cc//bbs/Food/M.1629011254.A.9DE.html [食記] [新北][板橋] 肉多多/肉超多高CP外帶防疫\n",
            " 8/15 https://www.ptt.cc//bbs/Food/M.1629011341.A.D94.html [食記] 台北大安 Waiting Bistro餐酒館\n",
            " 8/15 https://www.ptt.cc//bbs/Food/M.1629022507.A.2F0.html [食記] 台北中山 晶華軒 晶華酒店 西施泡飯 沒有烤鴨 高檔套餐\n",
            " 8/15 https://www.ptt.cc//bbs/Food/M.1629023182.A.051.html [食記] 台北 善導寺 東北之家酸菜白肉鍋      \n",
            " 8/15 https://www.ptt.cc//bbs/Food/M.1629029411.A.336.html [食記] 北海道 友善的熊 單純原味的鐵板燒\n",
            " 8/15 https://www.ptt.cc//bbs/Food/M.1629033017.A.065.html [食記] 台東關山臭豆腐-隱藏市場的排隊名店\n",
            " 8/15 https://www.ptt.cc//bbs/Food/M.1629035035.A.B5F.html [食記] 高雄 串吧酒食居 外帶9折 玉子燒 花生吐司\n",
            " 8/15 https://www.ptt.cc//bbs/Food/M.1629035629.A.FBF.html [食記] [新竹][竹北] 大廟厚切牛排/超美味厚切牛\n",
            " 8/15 https://www.ptt.cc//bbs/Food/M.1629036427.A.09C.html [食記] 新店 鮨心匠\n",
            " 8/15 https://www.ptt.cc//bbs/Food/M.1629036456.A.F8E.html [食記] 新北 拿坡里披薩 MINI披薩搭兩塊炸雞飲料\n",
            " 8/15 https://www.ptt.cc//bbs/Food/M.1629042525.A.1C5.html [食記] 台北南港五分埔 鄉味蚵仔炸(古早味蚵嗲\n",
            " 8/16 https://www.ptt.cc//bbs/Food/M.1629050091.A.0B1.html [食記] 台中 超級Super 古巴三明治：有點乾柴\n",
            " 8/16 https://www.ptt.cc//bbs/Food/M.1629074576.A.175.html [食記] 七夕大餐｜頭份。柒石柒石頭鍋專賣店\n",
            " 8/16 https://www.ptt.cc//bbs/Food/M.1629078067.A.E7C.html [食記] 西門町 千葉火鍋 熟食壽司吃到飽\n",
            " 8/16 https://www.ptt.cc//bbs/Food/M.1629078905.A.524.html [食記] 嘉義 文化路早餐，吉丸飯糰小巴混蛋飯糰\n",
            " 8/16 https://www.ptt.cc//bbs/Food/M.1629087057.A.3A9.html [食記] 台北大安 這間咖啡：深夜咖啡 不限時\n",
            " 8/16 https://www.ptt.cc//bbs/Food/M.1629091643.A.669.html [食記] 台北 萬華 冰雪蔬蔬\n",
            " 8/16 https://www.ptt.cc//bbs/Food/M.1629092248.A.111.html [食記] 台北 松山 Cantine Marais 瑪黑餐酒 (外送外帶)\n",
            " 8/16 https://www.ptt.cc//bbs/Food/M.1629098161.A.52C.html [食記] 宜蘭蘇澳 無名蝦餅蚵嗲蘿蔔糕\n",
            " 8/16 https://www.ptt.cc//bbs/Food/M.1629100085.A.38A.html [食記] 東京 迴轉壽司トリトン 緣側的多變呈現\n"
          ],
          "name": "stdout"
        }
      ]
    },
    {
      "cell_type": "code",
      "metadata": {
        "colab": {
          "base_uri": "https://localhost:8080/",
          "height": 37
        },
        "id": "ujileinbyHSQ",
        "outputId": "719e42b9-367e-43ca-b9db-d87b8a430981"
      },
      "source": [
        "len(sp.find_all('a',class_='btn wide')) #「上頁」在第2個，索引值為1\n",
        "#sp.find_all('a',class_='btn wide')[1]['href']\n",
        "\"https://www.ptt.cc/\"+sp.find_all('a',class_='btn wide')[1]['href']"
      ],
      "execution_count": 65,
      "outputs": [
        {
          "output_type": "execute_result",
          "data": {
            "application/vnd.google.colaboratory.intrinsic+json": {
              "type": "string"
            },
            "text/plain": [
              "'https://www.ptt.cc//bbs/Food/index7000.html'"
            ]
          },
          "metadata": {
            "tags": []
          },
          "execution_count": 65
        }
      ]
    },
    {
      "cell_type": "markdown",
      "metadata": {
        "id": "ftrZJAM3v6VI"
      },
      "source": [
        "#我要一次抓五頁？！\n"
      ]
    },
    {
      "cell_type": "code",
      "metadata": {
        "colab": {
          "base_uri": "https://localhost:8080/"
        },
        "id": "xmCGmM-bv-4A",
        "outputId": "d2e84037-b0e5-4b3c-e4f7-49d92313c3b4"
      },
      "source": [
        "import requests\n",
        "from bs4 import BeautifulSoup\n",
        "url=\"https://www.ptt.cc/bbs/Food/index.html\"\n",
        "\n",
        "for i in range(5):\n",
        "  print(\"第{}頁\".format(i+1))\n",
        "  html=requests.get(url)\n",
        "  sp=BeautifulSoup(html.text,\"html.parser\")\n",
        "  datas=sp.find_all('div',class_=\"r-ent\")\n",
        "  for data in datas:\n",
        "    print(data.find('div',class_='date').text,end=\" \")\n",
        "    #print(\"https://www.ptt.cc/\" +data.a['href'],end=\" \")    #兩種語法都可以\n",
        "    print(\"https://www.ptt.cc/\" +data.a.get('href'),end=\" \")\n",
        "    print(data.a.text)\n",
        "  url=\"https://www.ptt.cc/\"+sp.find_all('a',class_='btn wide')[1]['href']"
      ],
      "execution_count": 67,
      "outputs": [
        {
          "output_type": "stream",
          "text": [
            "第1頁\n",
            " 8/16 https://www.ptt.cc//bbs/Food/M.1629110767.A.310.html [食記] 高雄 壽司郎中正店 迴轉壽司自取外帶回家\n",
            " 8/16 https://www.ptt.cc//bbs/Food/M.1629111245.A.AC0.html [請益] 山海樓的外帶套餐建議\n",
            " 8/16 https://www.ptt.cc//bbs/Food/M.1629116850.A.4B8.html [食記] 高雄 新興 17號西班牙餐酒館\n",
            " 8/16 https://www.ptt.cc//bbs/Food/M.1629119902.A.0F2.html [食記]永和樂澄小店牛肉麵專門店\n",
            " 8/16 https://www.ptt.cc//bbs/Food/M.1629120457.A.FC2.html [食記] 新店 黑角\n",
            " 8/16 https://www.ptt.cc//bbs/Food/M.1629123048.A.0EC.html [食記] [台北][中山] 家鴻燒鵝/排隊30分鐘也要吃\n",
            " 8/17 https://www.ptt.cc//bbs/Food/M.1629129744.A.8B2.html [食記] 基隆市信義區-瑞英生煎包鍋貼\n",
            " 8/17 https://www.ptt.cc//bbs/Food/M.1629133187.A.328.html [食記] 個人認為史上最雷高評價店-桃園村民食堂\n",
            " 8/17 https://www.ptt.cc//bbs/Food/M.1629133983.A.6E5.html [食記] 台北 公館 曉鹿鳴樓上海菜\n",
            " 8/17 https://www.ptt.cc//bbs/Food/M.1629142573.A.31B.html [廣宣] 苗栗後龍 堅果爸爸 低溫烘焙堅果\n",
            " 8/17 https://www.ptt.cc//bbs/Food/M.1629149436.A.FBD.html [請益] 想找吃起來味道及口感和山岡家類似的拉\n",
            " 8/17 https://www.ptt.cc//bbs/Food/M.1629159751.A.534.html [食記] 嘉義 東門圓環旁 東門小卷麵線\n",
            " 8/17 https://www.ptt.cc//bbs/Food/M.1629160601.A.148.html [食記] 桃園中壢區。斜坡粉漿蛋餅\n",
            " 8/17 https://www.ptt.cc//bbs/Food/M.1629169314.A.E0D.html [食記] 台北中山 柒串燒\n",
            " 8/17 https://www.ptt.cc//bbs/Food/M.1629177879.A.D04.html [食記] 基隆 第34夜 隱藏在巷弄 鮮美噴香海鮮義大利麵\n",
            " 8/17 https://www.ptt.cc//bbs/Food/M.1629179081.A.954.html [食記] 新北樹林 鑫記碳烤肉餅\n",
            "12/16 https://www.ptt.cc//bbs/Food/M.1355673582.A.5F7.html [公告] Food板 板規 V3.91\n",
            " 9/28 https://www.ptt.cc//bbs/Food/M.1190944426.A.E6C.html [公告] 發文請在標題加上地區及提供地址電話。^^\n",
            "10/01 https://www.ptt.cc//bbs/Food/M.1128132666.A.0FD.html [公告] 文章被刪除者請洽精華區的資源回收桶\n",
            " 6/04 https://www.ptt.cc//bbs/Food/M.1496532469.A.C36.html [公告] 新增板規22：發文禁附延伸閱讀連結\n",
            "第2頁\n",
            " 8/15 https://www.ptt.cc//bbs/Food/M.1629011254.A.9DE.html [食記] [新北][板橋] 肉多多/肉超多高CP外帶防疫\n",
            " 8/15 https://www.ptt.cc//bbs/Food/M.1629011341.A.D94.html [食記] 台北大安 Waiting Bistro餐酒館\n",
            " 8/15 https://www.ptt.cc//bbs/Food/M.1629022507.A.2F0.html [食記] 台北中山 晶華軒 晶華酒店 西施泡飯 沒有烤鴨 高檔套餐\n",
            " 8/15 https://www.ptt.cc//bbs/Food/M.1629023182.A.051.html [食記] 台北 善導寺 東北之家酸菜白肉鍋      \n",
            " 8/15 https://www.ptt.cc//bbs/Food/M.1629029411.A.336.html [食記] 北海道 友善的熊 單純原味的鐵板燒\n",
            " 8/15 https://www.ptt.cc//bbs/Food/M.1629033017.A.065.html [食記] 台東關山臭豆腐-隱藏市場的排隊名店\n",
            " 8/15 https://www.ptt.cc//bbs/Food/M.1629035035.A.B5F.html [食記] 高雄 串吧酒食居 外帶9折 玉子燒 花生吐司\n",
            " 8/15 https://www.ptt.cc//bbs/Food/M.1629035629.A.FBF.html [食記] [新竹][竹北] 大廟厚切牛排/超美味厚切牛\n",
            " 8/15 https://www.ptt.cc//bbs/Food/M.1629036427.A.09C.html [食記] 新店 鮨心匠\n",
            " 8/15 https://www.ptt.cc//bbs/Food/M.1629036456.A.F8E.html [食記] 新北 拿坡里披薩 MINI披薩搭兩塊炸雞飲料\n",
            " 8/15 https://www.ptt.cc//bbs/Food/M.1629042525.A.1C5.html [食記] 台北南港五分埔 鄉味蚵仔炸(古早味蚵嗲\n",
            " 8/16 https://www.ptt.cc//bbs/Food/M.1629050091.A.0B1.html [食記] 台中 超級Super 古巴三明治：有點乾柴\n",
            " 8/16 https://www.ptt.cc//bbs/Food/M.1629074576.A.175.html [食記] 七夕大餐｜頭份。柒石柒石頭鍋專賣店\n",
            " 8/16 https://www.ptt.cc//bbs/Food/M.1629078067.A.E7C.html [食記] 西門町 千葉火鍋 熟食壽司吃到飽\n",
            " 8/16 https://www.ptt.cc//bbs/Food/M.1629078905.A.524.html [食記] 嘉義 文化路早餐，吉丸飯糰小巴混蛋飯糰\n",
            " 8/16 https://www.ptt.cc//bbs/Food/M.1629087057.A.3A9.html [食記] 台北大安 這間咖啡：深夜咖啡 不限時\n",
            " 8/16 https://www.ptt.cc//bbs/Food/M.1629091643.A.669.html [食記] 台北 萬華 冰雪蔬蔬\n",
            " 8/16 https://www.ptt.cc//bbs/Food/M.1629092248.A.111.html [食記] 台北 松山 Cantine Marais 瑪黑餐酒 (外送外帶)\n",
            " 8/16 https://www.ptt.cc//bbs/Food/M.1629098161.A.52C.html [食記] 宜蘭蘇澳 無名蝦餅蚵嗲蘿蔔糕\n",
            " 8/16 https://www.ptt.cc//bbs/Food/M.1629100085.A.38A.html [食記] 東京 迴轉壽司トリトン 緣側的多變呈現\n",
            "第3頁\n",
            " 8/13 https://www.ptt.cc//bbs/Food/M.1628859698.A.224.html [食記] 宜蘭礁溪咖啡廳-【瑪德琳咖啡】\n",
            " 8/13 https://www.ptt.cc//bbs/Food/M.1628859841.A.03D.html [食記] 台南中西早餐吃到飽-康橋商旅(赤崁樓館)\n",
            " 8/13 https://www.ptt.cc//bbs/Food/M.1628860229.A.A71.html [食記] 台中 羅家古早味 2021米其林必比登推薦\n",
            " 8/14 https://www.ptt.cc//bbs/Food/M.1628871711.A.2F3.html [食記] 臺北大安 馬辣火鍋外帶\n",
            " 8/14 https://www.ptt.cc//bbs/Food/M.1628906509.A.186.html [食記] 台北。台式便當-好記擔仔麵~擔仔麵$40\n",
            " 8/14 https://www.ptt.cc//bbs/Food/M.1628909807.A.AAB.html [食記] 花蓮豐濱 伊娜飛魚餐廳\n",
            " 8/14 https://www.ptt.cc//bbs/Food/M.1628911260.A.435.html [食記] 台南北區 豬頭妹韓式燒肉吃到飽 平日299\n",
            " 8/14 https://www.ptt.cc//bbs/Food/M.1628911286.A.DD0.html [食記] 桃園中壢區。川妹子酸辣粉\n",
            " 8/14 https://www.ptt.cc//bbs/Food/M.1628919577.A.BF5.html [問卷] 2021 台北/台中 米其林 必比登 體驗調查 問卷調查\n",
            " 8/14 https://www.ptt.cc//bbs/Food/M.1628926954.A.903.html [食記] 台北松山區 1010湘復北店-合菜\n",
            " 8/14 https://www.ptt.cc//bbs/Food/M.1628931806.A.DB8.html [食記] 台北東區 居酒屋餐廳 山男YAMASAN\n",
            " 8/14 https://www.ptt.cc//bbs/Food/M.1628943587.A.C1D.html [食記] 高雄 新志割烹 價格偏高的外帶散壽司\n",
            " 8/14 https://www.ptt.cc//bbs/Food/M.1628947503.A.EE3.html [食記] 基隆市仁愛區-仁愛市場大腸圈\n",
            " 8/14 https://www.ptt.cc//bbs/Food/M.1628949214.A.718.html [食記] 新店 賴岡山羊肉\n",
            " 8/15 https://www.ptt.cc//bbs/Food/M.1628995215.A.9C0.html [食記] 桃園中壢區。府城担仔麵\n",
            " 8/15 https://www.ptt.cc//bbs/Food/M.1628996901.A.8F7.html [討論] （內有抽獎！）雙方交易關係之信任、承諾\n",
            " 8/15 https://www.ptt.cc//bbs/Food/M.1628999672.A.3A6.html [食記] 台北中正區 羅媽媽米粉湯-東門市場米粉湯\n",
            " 8/15 https://www.ptt.cc//bbs/Food/M.1629004507.A.94F.html [食記] 嘉義 常圓簡餐(原「先家簡餐」)\n",
            " 8/15 https://www.ptt.cc//bbs/Food/M.1629008101.A.C70.html [食記] 嘉義 吐司男，韓系早午餐\n",
            " 8/15 https://www.ptt.cc//bbs/Food/M.1629010580.A.833.html [食記] 台北松江南京站 食彩櫻日式料理-好吃炸雞\n",
            "第4頁\n",
            " 8/12 https://www.ptt.cc//bbs/Food/M.1628780608.A.E36.html [食記] 新北 三芝 林蜂肉粽 50年餘的老店\n",
            " 8/12 https://www.ptt.cc//bbs/Food/M.1628781415.A.82B.html [食記] 桃園 藏壽司桃園遠百店 桃園火車站旁\n",
            " 8/12 https://www.ptt.cc//bbs/Food/M.1628782114.A.2BF.html [食記] 高雄鹽埕 永和小籠湯包 巷口小吃店\n",
            " 8/12 https://www.ptt.cc//bbs/Food/M.1628782710.A.505.html [食記] 基隆市仁愛區-華星牛排館(外帶餐盒\n",
            " 8/13 https://www.ptt.cc//bbs/Food/M.1628784300.A.2F0.html [食記] 高雄 Marc L3 超低調的法式餐廳\n",
            " 8/13 https://www.ptt.cc//bbs/Food/M.1628786312.A.0D5.html [食記] 台北 東門 豐盛食堂\n",
            " 8/13 https://www.ptt.cc//bbs/Food/M.1628795914.A.C6F.html [食記] 中秋限定一口迷你蛋黃酥  MT49 CAFE\n",
            " 8/13 https://www.ptt.cc//bbs/Food/M.1628815075.A.8FE.html [食記] 嘉義 瀟湘園餡餅，眷村口味點心\n",
            " 8/13 https://www.ptt.cc//bbs/Food/M.1628818736.A.98F.html [食記] 台北松山-米其林推薦海鮮-先進海產店\n",
            " 8/13 https://www.ptt.cc//bbs/Food/M.1628824595.A.9F5.html [食記] 台北 芋頭大王 永康街pk南機場\n",
            " 8/13 https://www.ptt.cc//bbs/Food/M.1628825506.A.2FE.html [食記] 台北大安 Purebread Bakery：酸種麵包\n",
            " 8/13 https://www.ptt.cc//bbs/Food/M.1628830870.A.F50.html [食記] 台北中山 解封後的上引樂烹鍋物一樣美\n",
            " 8/13 https://www.ptt.cc//bbs/Food/M.1628847176.A.A8E.html [食記] 台中審計新村: 艸水木堂 遊樂園風格的甜\n",
            " 8/13 https://www.ptt.cc//bbs/Food/M.1628858911.A.749.html [食記] 台東市區-榕樹下米苔目\n",
            " 8/13 https://www.ptt.cc//bbs/Food/M.1628859049.A.7C2.html [食記] 新北中和早餐-永和豆漿(南山路)\n",
            " 8/13 https://www.ptt.cc//bbs/Food/M.1628859129.A.2A6.html [食記] 台北北投市場-文吉肉羹\n",
            " 8/13 https://www.ptt.cc//bbs/Food/M.1628859262.A.852.html [食記] 花蓮市區小吃-戴記扁食\n",
            " 8/13 https://www.ptt.cc//bbs/Food/M.1628859367.A.5F5.html [食記] 台北大安區早餐吃到飽-慕軒飯店\n",
            " 8/13 https://www.ptt.cc//bbs/Food/M.1628859474.A.B13.html [食記] 台北中正區善導寺站-滿滿咖哩\n",
            " 8/13 https://www.ptt.cc//bbs/Food/M.1628859562.A.BAC.html [食記] 基隆仁愛區-罌粟花精緻鍋物(套餐式火鍋)\n",
            "第5頁\n",
            " 8/11 https://www.ptt.cc//bbs/Food/M.1628694517.A.AFD.html [食記] 台北南港 鎮興燒臘(南港推薦燒臘油雞燒鴨\n",
            " 8/11 https://www.ptt.cc//bbs/Food/M.1628694647.A.30A.html [食記] 中壢 劉媽媽菜包店 傳統客家小吃\n",
            " 8/11 https://www.ptt.cc//bbs/Food/M.1628697383.A.B0F.html [食記] 台北 抹茶冰淇淋吃到飽．Japan Rail Cafe\n",
            " 8/12 https://www.ptt.cc//bbs/Food/M.1628698149.A.F8F.html [食記] 台北 士林 芝山 老街切仔麵\n",
            " 8/12 https://www.ptt.cc//bbs/Food/M.1628698484.A.20D.html [食記] 台北一樂拉麵 吃拉麵還是吃情懷？\n",
            " 8/12 https://www.ptt.cc//bbs/Food/M.1628740660.A.6EA.html [食記] 台北大安 柑橘Shinn Soba：柑橘鹽味拉麵\n",
            " 8/12 https://www.ptt.cc//bbs/Food/M.1628744653.A.A50.html [食記] 台南東區 紅燒花枝羹-後甲分店 \n",
            " 8/12 https://www.ptt.cc//bbs/Food/M.1628747106.A.F9B.html [食記] 桃園內壢美食推薦 玩味餐桌 TastingTable\n",
            " 8/12 https://www.ptt.cc//bbs/Food/M.1628747495.A.960.html [食記] 台中 三訪石庭兼六園 物超所值的外帶餐盒\n",
            " 8/12 https://www.ptt.cc//bbs/Food/M.1628749159.A.C52.html [食記]新北淡水。找餐食客 愛淡水青年的暖心早餐\n",
            " 8/12 https://www.ptt.cc//bbs/Food/M.1628750563.A.711.html [食記] 桃園中壢區。幸福小館\n",
            " 8/12 https://www.ptt.cc//bbs/Food/M.1628760012.A.AC0.html [食記] 台中西屯 大股熟成燒肉專門。超厚切牛舌!\n",
            " 8/12 https://www.ptt.cc//bbs/Food/M.1628760061.A.8D5.html [食記] 台南安平 孫家小卷米粉 少人知的低調好店\n",
            " 8/12 https://www.ptt.cc//bbs/Food/M.1628760753.A.463.html [食記] 台北 飛雞飯-「皮蛋巴斯克」！太前衛了！\n",
            " 8/12 https://www.ptt.cc//bbs/Food/M.1628766593.A.FC8.html [食記] 宜蘭礁溪 甕窯雞(宜蘭礁溪總店)\n",
            " 8/12 https://www.ptt.cc//bbs/Food/M.1628774728.A.D08.html [食記] [新竹][東區] 吳家莊油飯/彌月必吃油飯\n",
            " 8/12 https://www.ptt.cc//bbs/Food/M.1628776664.A.13E.html [食記] 高雄 楠梓-ひろ麵屋 塩味拉麵 & 豚骨拉麵\n",
            " 8/12 https://www.ptt.cc//bbs/Food/M.1628777360.A.391.html [食記] 高雄 香港人茶餐廳-優質燒臘飯道地西多士\n",
            " 8/12 https://www.ptt.cc//bbs/Food/M.1628777433.A.918.html [食記] 台南中西區-八峰亭 - 人氣限量日式拉麵\n",
            " 8/12 https://www.ptt.cc//bbs/Food/M.1628778310.A.70B.html [食記] 基隆仁愛 連珍糕餅店 基隆廟口百年老店\n"
          ],
          "name": "stdout"
        }
      ]
    },
    {
      "cell_type": "code",
      "metadata": {
        "id": "6fD7iz6xxRA_"
      },
      "source": [
        ""
      ],
      "execution_count": null,
      "outputs": []
    },
    {
      "cell_type": "markdown",
      "metadata": {
        "id": "UvmE4e5D0vpx"
      },
      "source": [
        "#爬八卦板\n",
        "\n",
        "\n",
        "*   有年齡check，用cookie管控\n",
        "*   F12,Application/Storeage/Cookie/ over18 \n",
        "\n"
      ]
    },
    {
      "cell_type": "code",
      "metadata": {
        "colab": {
          "base_uri": "https://localhost:8080/"
        },
        "id": "aWdj0XtQ0xnw",
        "outputId": "9a190421-7fe3-4978-b472-abefbe6b3220"
      },
      "source": [
        "import requests\n",
        "from bs4 import BeautifulSoup\n",
        "url=\"https://www.ptt.cc/bbs/Gossiping/index.html\"\n",
        "\n",
        "headers={\"cookie\":\"over18=1\"} #字典，把cookie值給瀏覽器\n",
        "\n",
        "html=requests.get(url,headers=headers)\n",
        "\n",
        "sp=BeautifulSoup(html.text,\"html.parser\")\n",
        "datas=sp.find_all('div',class_=\"r-ent\")\n",
        "\n",
        "for data in datas:\n",
        "  print(data.find('div',class_='date').text,end=\" \")\n",
        "  #print(\"https://www.ptt.cc/\" +data.a['href'],end=\" \")    #兩種語法都可以\n",
        "  print(\"https://www.ptt.cc/\" +data.a.get('href'),end=\" \")\n",
        "  print(data.a.text)"
      ],
      "execution_count": 72,
      "outputs": [
        {
          "output_type": "stream",
          "text": [
            " 8/17 https://www.ptt.cc//bbs/Gossiping/M.1629182452.A.44E.html [問卦] 便當的三樣菜選什麼最虧？\n",
            " 8/17 https://www.ptt.cc//bbs/Gossiping/M.1629182478.A.A56.html [問卦] 女權會組織軍隊拯救阿富汗嗎？\n",
            " 8/17 https://www.ptt.cc//bbs/Gossiping/M.1629182538.A.685.html [問卦] 如果法律消失，那你會想做什麼？\n",
            " 8/17 https://www.ptt.cc//bbs/Gossiping/M.1629182540.A.578.html Re: [問卦] 12猛漢最後一段說的是不是對極了\n",
            " 8/17 https://www.ptt.cc//bbs/Gossiping/M.1629182573.A.E94.html [問卦] 支語警察與支語信徒現在風向在誰那？\n",
            " 8/17 https://www.ptt.cc//bbs/Gossiping/M.1629182712.A.F0D.html [新聞] 「感謝大家說要還我公道！」馬英九：紓困\n",
            " 8/17 https://www.ptt.cc//bbs/Gossiping/M.1629182732.A.189.html [問卦] 什麼人可以打到兩劑輝瑞？\n",
            " 8/17 https://www.ptt.cc//bbs/Gossiping/M.1629182743.A.1FD.html Re: [新聞] 塔利班無法無天！擬定12至45歲「性奴隸清\n",
            " 8/17 https://www.ptt.cc//bbs/Gossiping/M.1629182770.A.DD8.html [問卦] 慟！發現白色的X毛怎麼辦？\n",
            " 8/17 https://www.ptt.cc//bbs/Gossiping/M.1629182776.A.755.html Re: [新聞] 高端首日結單！30.2萬人搶預約　現貨61.4\n",
            " 8/17 https://www.ptt.cc//bbs/Gossiping/M.1629182823.A.3FC.html [問卦] 阿富汗前總統如果有錦囊 上面會寫什麼\n",
            " 8/17 https://www.ptt.cc//bbs/Gossiping/M.1629182855.A.D07.html Re: [新聞] 拜登辯護撤軍決定：阿富汗軍不肯戰 不該\n",
            " 8/17 https://www.ptt.cc//bbs/Gossiping/M.1629182926.A.557.html [問卦] 現在是不是真的穩了？\n",
            " 8/17 https://www.ptt.cc//bbs/Gossiping/M.1629182955.A.1F8.html [問卦] 能一口氣嗑完一桶冰 pR值多少？\n",
            " 8/17 https://www.ptt.cc//bbs/Gossiping/M.1629182982.A.4B9.html [問卦]拜登是不是想得到諾貝爾和平獎\n",
            " 5/11 https://www.ptt.cc//bbs/Gossiping/M.1620716589.A.F0C.html [公告] 八卦板板規(2021.05.11)\n",
            " 8/12 https://www.ptt.cc//bbs/Gossiping/M.1628741625.A.1B9.html [協尋] 8/10(二)16:25新莊新五路與新北大道交叉路口\n",
            " 8/16 https://www.ptt.cc//bbs/Gossiping/M.1629077034.A.5A9.html [協尋] 8/5興隆路四段與木柵路二段路口監視器\n",
            " 8/16 https://www.ptt.cc//bbs/Gossiping/M.1629128344.A.FC9.html [協尋] 8/16 行車記錄器 五權西路&工業22路 時間\n",
            " 8/17 https://www.ptt.cc//bbs/Gossiping/M.1629169099.A.BAB.html [協尋] 桃園市4歲黑貓走失\n"
          ],
          "name": "stdout"
        }
      ]
    }
  ]
}