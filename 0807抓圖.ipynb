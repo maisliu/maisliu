{
  "nbformat": 4,
  "nbformat_minor": 0,
  "metadata": {
    "colab": {
      "name": "0807抓圖.ipynb",
      "provenance": [],
      "collapsed_sections": [],
      "mount_file_id": "10Rv1LEAbJdryXzCG6xsYlBiOp6Vs9JFR",
      "authorship_tag": "ABX9TyNW4bOslGPwuZ0w81OUx+uE",
      "include_colab_link": true
    },
    "kernelspec": {
      "name": "python3",
      "display_name": "Python 3"
    },
    "language_info": {
      "name": "python"
    }
  },
  "cells": [
    {
      "cell_type": "markdown",
      "metadata": {
        "id": "view-in-github",
        "colab_type": "text"
      },
      "source": [
        "<a href=\"https://colab.research.google.com/github/maisliu/maisliu/blob/0817_python/0807%E6%8A%93%E5%9C%96.ipynb\" target=\"_parent\"><img src=\"https://colab.research.google.com/assets/colab-badge.svg\" alt=\"Open In Colab\"/></a>"
      ]
    },
    {
      "cell_type": "code",
      "metadata": {
        "colab": {
          "base_uri": "https://localhost:8080/"
        },
        "id": "OwMKqAkwIDx0",
        "outputId": "9ab74fd2-1f85-431d-eb08-e2024634e921"
      },
      "source": [
        "import requests\n",
        "from bs4 import BeautifulSoup\n",
        "url=\"https://www.irasutoya.com/2021/01/blog-post_64.html\"\n",
        "\n",
        "html=requests.get(url)\n",
        "\n"
      ],
      "execution_count": 4,
      "outputs": [
        {
          "output_type": "execute_result",
          "data": {
            "text/plain": [
              "<Response [200]>"
            ]
          },
          "metadata": {
            "tags": []
          },
          "execution_count": 4
        }
      ]
    },
    {
      "cell_type": "code",
      "metadata": {
        "colab": {
          "base_uri": "https://localhost:8080/"
        },
        "id": "XEXWu-PDLCce",
        "outputId": "d45df712-771b-41fb-c078-7afe9e7d9be1"
      },
      "source": [
        "sp=BeautifulSoup(html.text,\"html.parser\")\n",
        "#len(sp.find('div',class_=\"separator\").find_all('a'))\n",
        "datas=sp.find('div',class_=\"separator\").find_all('a')\n",
        "for data  in datas:\n",
        "   print(data.get('href').split('/')[-1])  #抓檔名"
      ],
      "execution_count": 11,
      "outputs": [
        {
          "output_type": "stream",
          "text": [
            "animal_marmot_white_brown.png\n",
            "animal_marmot_white_black.png\n",
            "animal_marmot_white.png\n",
            "animal_marmot_mike.png\n",
            "animal_marmot_brown.png\n",
            "animal_marmot_black.png\n"
          ],
          "name": "stdout"
        }
      ]
    },
    {
      "cell_type": "code",
      "metadata": {
        "id": "dwpjxL7nJe4N"
      },
      "source": [
        "sp=BeautifulSoup(html.text,\"html.parser\")\n",
        "#len(sp.find('div',class_=\"separator\").find_all('a'))\n",
        "datas=sp.find('div',class_=\"separator\").find_all('a')\n",
        "for data  in datas:\n",
        "  #print(data.get('href')) #遠端圖片網址\n",
        "  imgfile=requests.get(data.get('href'))\n",
        "  imgname=data.get('href').split('/')[-1]\n",
        "  with open(\"/content/drive/MyDrive/Colab Notebooks/0817mouse_img/\" + imgname,'wb')as f:\n",
        "    f.write(imgfile.content)\n",
        "    \n",
        "#存回雲端硬碟\n",
        "\n",
        "  "
      ],
      "execution_count": 16,
      "outputs": []
    }
  ]
}