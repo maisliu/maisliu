{
  "nbformat": 4,
  "nbformat_minor": 0,
  "metadata": {
    "colab": {
      "name": "Python綠能大數據科技應用_20210817",
      "provenance": [],
      "include_colab_link": true
    },
    "kernelspec": {
      "name": "python3",
      "display_name": "Python 3"
    },
    "language_info": {
      "name": "python"
    }
  },
  "cells": [
    {
      "cell_type": "markdown",
      "metadata": {
        "id": "view-in-github",
        "colab_type": "text"
      },
      "source": [
        "<a href=\"https://colab.research.google.com/github/maisliu/maisliu/blob/main/Python%E7%B6%A0%E8%83%BD%E5%A4%A7%E6%95%B8%E6%93%9A%E7%A7%91%E6%8A%80%E6%87%89%E7%94%A8_20210817.ipynb\" target=\"_parent\"><img src=\"https://colab.research.google.com/assets/colab-badge.svg\" alt=\"Open In Colab\"/></a>"
      ]
    },
    {
      "cell_type": "code",
      "metadata": {
        "id": "9MVQuwiFuFlw",
        "colab": {
          "base_uri": "https://localhost:8080/"
        },
        "outputId": "7e085df6-1ec9-4fdd-86ca-eb71381164ab"
      },
      "source": [
        "# 基礎爬蟲\n",
        "# 發出要求取得原始資料\n",
        "import requests\n",
        "url = \"http://ehappy.tw/bsdemo1.htm\"\n",
        "html = requests.get(url)\n",
        "html.encoding = \"utf-8\"\n",
        "print(html.text)"
      ],
      "execution_count": null,
      "outputs": [
        {
          "output_type": "stream",
          "text": [
            "﻿<!doctype html>\r\n",
            "<html lang=\"zh\">\r\n",
            "  <head>\r\n",
            "    <meta charset=\"UTF-8\">\r\n",
            "    <title>我是網頁標題</title>\r\n",
            "  </head>\r\n",
            "  <body>\r\n",
            "    <h1 class=\"large\">我是標題</h1>\r\n",
            "    <div>\r\n",
            "      <p>我是段落</p>\r\n",
            "      <img src=\"https://www.w3.org/html/logo/downloads/HTML5_Logo_256.png\" alt=\"我是圖片\">\r\n",
            "      <a href=\"http://www.e-happy.com.tw\">我是超連結</a>\r\n",
            "    </div>\r\n",
            "  </body>\r\n",
            "</html>\n"
          ],
          "name": "stdout"
        }
      ]
    },
    {
      "cell_type": "code",
      "metadata": {
        "id": "F9Wlkw4wID_3"
      },
      "source": [
        "# 解析網頁\n",
        "from bs4 import BeautifulSoup\n",
        "sp = BeautifulSoup(html.text, 'html.parser')\n",
        "# sp.body.div.a.text\n",
        "sp.a.text"
      ],
      "execution_count": null,
      "outputs": []
    },
    {
      "cell_type": "code",
      "metadata": {
        "id": "xrhizl0NNbAj"
      },
      "source": [
        "# 取得屬性\n",
        "sp.a.get('href')\n",
        "sp.a['href']\n",
        "sp.img.get('src')\n",
        "sp.img['src']"
      ],
      "execution_count": null,
      "outputs": []
    },
    {
      "cell_type": "code",
      "metadata": {
        "colab": {
          "base_uri": "https://localhost:8080/"
        },
        "id": "9UHo4tr5OXM0",
        "outputId": "b3524e15-5097-40d2-cca7-30886a8461f5"
      },
      "source": [
        "# 發出原始資料\n",
        "url = \"http://ehappy.tw/bsdemo2.htm\"\n",
        "html = requests.get(url)\n",
        "html.encoding = \"utf-8\"\n",
        "print(html.text)"
      ],
      "execution_count": null,
      "outputs": [
        {
          "output_type": "stream",
          "text": [
            "﻿<!doctype html>\r\n",
            "<html>\r\n",
            "  <head>\r\n",
            "    <meta charset=\"UTF-8\">\r\n",
            "    <title>我是網頁標題</title>\r\n",
            "  </head>\r\n",
            "  <body>\r\n",
            "    <h1 class=\"large\">我是標題</h1>\r\n",
            "    <div>\r\n",
            "      <p id=\"p1\" class=\"large\">我是段落一</p>\r\n",
            "      <p id=\"p2\" style=\"font-size:16pt\">我是段落二</p>\r\n",
            "      <img src=\"https://www.w3.org/html/logo/downloads/HTML5_Logo_256.png\" alt=\"HTML5 logo\">\r\n",
            "      <ul>\r\n",
            "        <li class=\"odd\"><a href=\"http://www.ehappy.tw\">我是超連結1</a></li>\r\n",
            "        <li class=\"even\"><a href=\"http://www.e-happy.com.tw\">我是超連結2</a></li>\r\n",
            "      </ul>\r\n",
            "    </div>\r\n",
            "  </body>\r\n",
            "</html>\n"
          ],
          "name": "stdout"
        }
      ]
    },
    {
      "cell_type": "code",
      "metadata": {
        "colab": {
          "base_uri": "https://localhost:8080/"
        },
        "id": "gUwazGZoPF5r",
        "outputId": "bd17d1bb-3c1d-4e86-8ce4-bb04f05ed095"
      },
      "source": [
        "# 折解資料\n",
        "sp = BeautifulSoup(html.text, 'html.parser')\n",
        "# sp.find('p', id='p2').text\n",
        "# sp.find('li', class_=\"even\").a.text\n",
        "# datas = sp.find_all('p')\n",
        "# for data in datas:\n",
        "#     print(data.text)\n",
        "\n",
        "datas = sp.find_all('a')\n",
        "for data in datas:\n",
        "    print(data.get('href'))"
      ],
      "execution_count": null,
      "outputs": [
        {
          "output_type": "stream",
          "text": [
            "http://www.ehappy.tw\n",
            "http://www.e-happy.com.tw\n"
          ],
          "name": "stdout"
        }
      ]
    },
    {
      "cell_type": "markdown",
      "metadata": {
        "id": "JwCvfqUwqK9V"
      },
      "source": [
        "# PTT美食版爬蟲"
      ]
    },
    {
      "cell_type": "code",
      "metadata": {
        "id": "wGRVFHplqasD"
      },
      "source": [
        "import requests\n",
        "from bs4 import BeautifulSoup\n",
        "url = \"https://www.ptt.cc/bbs/Food/index.html\"\n",
        "html = requests.get(url)"
      ],
      "execution_count": null,
      "outputs": []
    },
    {
      "cell_type": "code",
      "metadata": {
        "colab": {
          "base_uri": "https://localhost:8080/"
        },
        "id": "mtvoRrpoqXW4",
        "outputId": "87c7c0cb-0e88-4954-b754-330a7708f355"
      },
      "source": [
        "sp = BeautifulSoup(html.text, 'html.parser')\n",
        "datas = sp.find_all('div', class_=\"r-ent\")\n",
        "for data in datas:\n",
        "    print(data.find('div', class_='date').text, end=\" \")\n",
        "    print(\"https://www.ptt.cc/\" + data.a.get(\"href\"), end=\" \")\n",
        "    print(data.a.text)"
      ],
      "execution_count": null,
      "outputs": [
        {
          "output_type": "stream",
          "text": [
            " 8/16 https://www.ptt.cc//bbs/Food/M.1629110767.A.310.html [食記] 高雄 壽司郎中正店 迴轉壽司自取外帶回家\n",
            " 8/16 https://www.ptt.cc//bbs/Food/M.1629111245.A.AC0.html [請益] 山海樓的外帶套餐建議\n",
            " 8/16 https://www.ptt.cc//bbs/Food/M.1629116850.A.4B8.html [食記] 高雄 新興 17號西班牙餐酒館\n",
            " 8/16 https://www.ptt.cc//bbs/Food/M.1629119902.A.0F2.html [食記]永和樂澄小店牛肉麵專門店\n",
            " 8/16 https://www.ptt.cc//bbs/Food/M.1629120457.A.FC2.html [食記] 新店 黑角\n",
            " 8/16 https://www.ptt.cc//bbs/Food/M.1629123048.A.0EC.html [食記] [台北][中山] 家鴻燒鵝/排隊30分鐘也要吃\n",
            " 8/17 https://www.ptt.cc//bbs/Food/M.1629129744.A.8B2.html [食記] 基隆市信義區-瑞英生煎包鍋貼\n",
            " 8/17 https://www.ptt.cc//bbs/Food/M.1629133187.A.328.html [食記] 個人認為史上最雷高評價店-桃園村民食堂\n",
            " 8/17 https://www.ptt.cc//bbs/Food/M.1629133983.A.6E5.html [食記] 台北 公館 曉鹿鳴樓上海菜\n",
            " 8/17 https://www.ptt.cc//bbs/Food/M.1629142573.A.31B.html [廣宣] 苗栗後龍 堅果爸爸 低溫烘焙堅果\n",
            " 8/17 https://www.ptt.cc//bbs/Food/M.1629149436.A.FBD.html [請益] 想找吃起來味道及口感和山岡家類似的拉\n",
            " 8/17 https://www.ptt.cc//bbs/Food/M.1629159751.A.534.html [食記] 嘉義 東門圓環旁 東門小卷麵線\n",
            " 8/17 https://www.ptt.cc//bbs/Food/M.1629160601.A.148.html [食記] 桃園中壢區。斜坡粉漿蛋餅\n",
            " 8/17 https://www.ptt.cc//bbs/Food/M.1629169314.A.E0D.html [食記] 台北中山 柒串燒\n",
            " 8/17 https://www.ptt.cc//bbs/Food/M.1629177879.A.D04.html [食記] 基隆 第34夜 隱藏在巷弄 鮮美噴香海鮮義大利麵\n",
            " 8/17 https://www.ptt.cc//bbs/Food/M.1629179081.A.954.html [食記] 新北樹林 鑫記碳烤肉餅\n",
            "12/16 https://www.ptt.cc//bbs/Food/M.1355673582.A.5F7.html [公告] Food板 板規 V3.91\n",
            " 9/28 https://www.ptt.cc//bbs/Food/M.1190944426.A.E6C.html [公告] 發文請在標題加上地區及提供地址電話。^^\n",
            "10/01 https://www.ptt.cc//bbs/Food/M.1128132666.A.0FD.html [公告] 文章被刪除者請洽精華區的資源回收桶\n",
            " 6/04 https://www.ptt.cc//bbs/Food/M.1496532469.A.C36.html [公告] 新增板規22：發文禁附延伸閱讀連結\n"
          ],
          "name": "stdout"
        }
      ]
    },
    {
      "cell_type": "code",
      "metadata": {
        "id": "hk0yZcC5vVSh"
      },
      "source": [
        "import requests\n",
        "from bs4 import BeautifulSoup\n",
        "\n",
        "url = \"https://www.ptt.cc/bbs/Food/index7001.html\"\n",
        "html = requests.get(url)\n",
        "sp = BeautifulSoup(html.text, 'html.parser')\n",
        "datas = sp.find_all('div', class_=\"r-ent\")\n",
        "\n",
        "for data in datas:\n",
        "    print(data.find('div', class_='date').text, end=\" \")\n",
        "    print(\"https://www.ptt.cc/\" + data.a.get(\"href\"), end=\" \")\n",
        "    print(data.a.text)"
      ],
      "execution_count": null,
      "outputs": []
    },
    {
      "cell_type": "code",
      "metadata": {
        "id": "YMcYG2MQyDvl"
      },
      "source": [
        "\"https://www.ptt.cc/\" + sp.find_all('a', class_=\"btn wide\")[1].get('href')"
      ],
      "execution_count": null,
      "outputs": []
    },
    {
      "cell_type": "code",
      "metadata": {
        "id": "iTTSkCCcywKo"
      },
      "source": [
        "import requests\n",
        "from bs4 import BeautifulSoup\n",
        "# 設定首頁連結\n",
        "url = \"https://www.ptt.cc/bbs/Food/index.html\"\n",
        "# 設定抓取的頁數\n",
        "for i in range(5):\n",
        "    print(\"第 {} 頁\".format(i+1))\n",
        "    html = requests.get(url)\n",
        "    sp = BeautifulSoup(html.text, 'html.parser')\n",
        "    datas = sp.find_all('div', class_=\"r-ent\")\n",
        "\n",
        "    for data in datas:\n",
        "        print(data.find('div', class_='date').text, end=\" \")\n",
        "        print(\"https://www.ptt.cc/\" + data.a.get(\"href\"), end=\" \")\n",
        "        print(data.a.text)\n",
        "    # 取得下一頁的連結\n",
        "    url = \"https://www.ptt.cc/\" + sp.find_all('a', class_=\"btn wide\")[1].get('href')     "
      ],
      "execution_count": null,
      "outputs": []
    },
    {
      "cell_type": "code",
      "metadata": {
        "colab": {
          "base_uri": "https://localhost:8080/"
        },
        "id": "VF6V_Pky0q5n",
        "outputId": "ea20f09e-204d-4865-ef26-cae7d4dcdf34"
      },
      "source": [
        "import requests\n",
        "from bs4 import BeautifulSoup\n",
        "\n",
        "url = \"https://www.ptt.cc/bbs/Gossiping/index.html\"\n",
        "# 設定cookie值\n",
        "headers = {\"cookie\":\"over18=1\"}\n",
        "html = requests.get(url, headers = headers)\n",
        "sp = BeautifulSoup(html.text, 'html.parser')\n",
        "datas = sp.find_all('div', class_=\"r-ent\")\n",
        "\n",
        "for data in datas:\n",
        "    print(data.find('div', class_='date').text, end=\" \")\n",
        "    print(\"https://www.ptt.cc/\" + data.a.get(\"href\"), end=\" \")\n",
        "    print(data.a.text)"
      ],
      "execution_count": null,
      "outputs": [
        {
          "output_type": "stream",
          "text": [
            " 8/17 https://www.ptt.cc//bbs/Gossiping/M.1629182452.A.44E.html [問卦] 便當的三樣菜選什麼最虧？\n",
            " 8/17 https://www.ptt.cc//bbs/Gossiping/M.1629182478.A.A56.html [問卦] 女權會組織軍隊拯救阿富汗嗎？\n",
            " 8/17 https://www.ptt.cc//bbs/Gossiping/M.1629182538.A.685.html [問卦] 如果法律消失，那你會想做什麼？\n",
            " 8/17 https://www.ptt.cc//bbs/Gossiping/M.1629182540.A.578.html Re: [問卦] 12猛漢最後一段說的是不是對極了\n",
            " 8/17 https://www.ptt.cc//bbs/Gossiping/M.1629182573.A.E94.html [問卦] 支語警察與支語信徒現在風向在誰那？\n",
            " 8/17 https://www.ptt.cc//bbs/Gossiping/M.1629182712.A.F0D.html [新聞] 「感謝大家說要還我公道！」馬英九：紓困\n",
            " 8/17 https://www.ptt.cc//bbs/Gossiping/M.1629182732.A.189.html [問卦] 什麼人可以打到兩劑輝瑞？\n",
            " 8/17 https://www.ptt.cc//bbs/Gossiping/M.1629182743.A.1FD.html Re: [新聞] 塔利班無法無天！擬定12至45歲「性奴隸清\n",
            " 8/17 https://www.ptt.cc//bbs/Gossiping/M.1629182770.A.DD8.html [問卦] 慟！發現白色的X毛怎麼辦？\n",
            " 8/17 https://www.ptt.cc//bbs/Gossiping/M.1629182776.A.755.html Re: [新聞] 高端首日結單！30.2萬人搶預約　現貨61.4\n",
            " 8/17 https://www.ptt.cc//bbs/Gossiping/M.1629182823.A.3FC.html [問卦] 阿富汗總統如果有錦囊 上面會寫什麼\n",
            " 8/17 https://www.ptt.cc//bbs/Gossiping/M.1629182855.A.D07.html Re: [新聞] 拜登辯護撤軍決定：阿富汗軍不肯戰 不該\n",
            " 5/11 https://www.ptt.cc//bbs/Gossiping/M.1620716589.A.F0C.html [公告] 八卦板板規(2021.05.11)\n",
            " 8/12 https://www.ptt.cc//bbs/Gossiping/M.1628741625.A.1B9.html [協尋] 8/10(二)16:25新莊新五路與新北大道交叉路口\n",
            " 8/16 https://www.ptt.cc//bbs/Gossiping/M.1629077034.A.5A9.html [協尋] 8/5興隆路四段與木柵路二段路口監視器\n",
            " 8/16 https://www.ptt.cc//bbs/Gossiping/M.1629128344.A.FC9.html [協尋] 8/16 行車記錄器 五權西路&工業22路 時間\n",
            " 8/17 https://www.ptt.cc//bbs/Gossiping/M.1629169099.A.BAB.html [協尋] 桃園市4歲黑貓走失\n"
          ],
          "name": "stdout"
        }
      ]
    }
  ]
}